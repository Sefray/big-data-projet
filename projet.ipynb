{
 "cells": [
  {
   "cell_type": "markdown",
   "metadata": {},
   "source": [
    "Student 1 : Philippe BERNET\n",
    "\n",
    "Student 2 : Marius   DUBOSC\n",
    "\n",
    "Student 3 : Baptiste BOURDET"
   ]
  },
  {
   "cell_type": "code",
   "execution_count": 1,
   "metadata": {},
   "outputs": [],
   "source": [
    "import ipywidgets as widgets\n",
    "from IPython.display import display\n",
    "import os\n",
    "import pandas as pd\n",
    "\n",
    "from datetime import date, datetime\n",
    "\n",
    "from pyspark.sql import SparkSession\n",
    "from pyspark.sql.types import *\n",
    "from pyspark.sql.functions import when, count, col, hour, mean, year, window, udf, avg, month, min, max, dayofmonth, weekofyear, lag, isnull\n",
    "\n",
    "from pyspark.sql.window import Window\n",
    "\n",
    "import matplotlib.pyplot as plt\n",
    "import matplotlib\n",
    "matplotlib.rcParams[\"figure.figsize\"] = (12, 10)\n",
    "# %matplotlib widget"
   ]
  },
  {
   "cell_type": "code",
   "execution_count": 2,
   "metadata": {},
   "outputs": [],
   "source": [
    "data_folder = \"stocks_data/\"\n",
    "companies = ['AMAZON',\n",
    "             'APPLE',\n",
    "             'FACEBOOK',\n",
    "             'GOOGLE',\n",
    "             'MICROSOFT',\n",
    "             'TESLA',\n",
    "             'ZOOM']\n"
   ]
  },
  {
   "cell_type": "code",
   "execution_count": 3,
   "metadata": {},
   "outputs": [
    {
     "name": "stderr",
     "output_type": "stream",
     "text": [
      "/home/marius/.local/lib/python3.6/site-packages/pyspark/context.py:238: FutureWarning: Python 3.6 support is deprecated in Spark 3.2.\n",
      "  FutureWarning\n"
     ]
    }
   ],
   "source": [
    "spark_application_name = \"Spark_Application_Project\"\n",
    "spark = (SparkSession.builder.appName(spark_application_name).getOrCreate())"
   ]
  },
  {
   "cell_type": "markdown",
   "metadata": {},
   "source": [
    "# Data loading"
   ]
  },
  {
   "cell_type": "code",
   "execution_count": 4,
   "metadata": {},
   "outputs": [
    {
     "name": "stdout",
     "output_type": "stream",
     "text": [
      "+-------------------+------------------+------------------+------------------+------------------+---------+------------------+------------+\n",
      "|               Date|              High|               Low|              Open|             Close|   Volume|         Adj Close|company_name|\n",
      "+-------------------+------------------+------------------+------------------+------------------+---------+------------------+------------+\n",
      "|2017-01-03 00:00:00| 62.84000015258789|62.130001068115234|62.790000915527344| 62.58000183105469|2.06941E7| 58.67324447631836|   MICROSOFT|\n",
      "|2017-01-04 00:00:00|             62.75|62.119998931884766| 62.47999954223633| 62.29999923706055|  2.134E7| 58.41072463989258|   MICROSOFT|\n",
      "|2017-01-05 00:00:00| 62.65999984741211|62.029998779296875|62.189998626708984| 62.29999923706055| 2.4876E7| 58.41072463989258|   MICROSOFT|\n",
      "|2017-01-06 00:00:00|63.150001525878906|62.040000915527344| 62.29999923706055| 62.84000015258789|1.99229E7|58.917015075683594|   MICROSOFT|\n",
      "|2017-01-09 00:00:00| 63.08000183105469|62.540000915527344|  62.7599983215332| 62.63999938964844|2.03827E7|58.729496002197266|   MICROSOFT|\n",
      "|2017-01-10 00:00:00| 63.06999969482422|62.279998779296875| 62.72999954223633|62.619998931884766| 1.8593E7| 58.71074676513672|   MICROSOFT|\n",
      "|2017-01-11 00:00:00| 63.22999954223633| 62.43000030517578| 62.61000061035156|63.189998626708984|2.15173E7| 59.24515914916992|   MICROSOFT|\n",
      "|2017-01-12 00:00:00|63.400001525878906| 61.95000076293945|63.060001373291016| 62.61000061035156|2.09682E7| 58.70137023925781|   MICROSOFT|\n",
      "|2017-01-13 00:00:00|62.869998931884766|62.349998474121094|62.619998931884766| 62.70000076293945|1.94223E7|  58.7857551574707|   MICROSOFT|\n",
      "|2017-01-17 00:00:00| 62.70000076293945|62.029998779296875| 62.68000030517578|62.529998779296875| 2.0664E7| 58.62636947631836|   MICROSOFT|\n",
      "|2017-01-18 00:00:00| 62.70000076293945|62.119998931884766| 62.66999816894531|              62.5|1.96701E7| 58.59824752807617|   MICROSOFT|\n",
      "|2017-01-19 00:00:00| 62.97999954223633| 62.20000076293945|  62.2400016784668| 62.29999923706055|1.84517E7| 58.41072463989258|   MICROSOFT|\n",
      "|2017-01-20 00:00:00| 62.81999969482422|62.369998931884766| 62.66999816894531|  62.7400016784668|3.02135E7| 58.82326126098633|   MICROSOFT|\n",
      "|2017-01-23 00:00:00|63.119998931884766| 62.56999969482422| 62.70000076293945|62.959999084472656|2.30976E7| 59.02952575683594|   MICROSOFT|\n",
      "|2017-01-24 00:00:00|  63.7400016784668|62.939998626708984| 63.20000076293945| 63.52000045776367|2.46729E7|59.554569244384766|   MICROSOFT|\n",
      "|2017-01-25 00:00:00|  64.0999984741211| 63.45000076293945| 63.95000076293945| 63.68000030517578|2.36727E7| 59.70457458496094|   MICROSOFT|\n",
      "|2017-01-26 00:00:00| 64.54000091552734| 63.54999923706055| 64.12000274658203|  64.2699966430664|4.35546E7| 60.25773620605469|   MICROSOFT|\n",
      "|2017-01-27 00:00:00| 65.91000366210938| 64.88999938964844| 65.38999938964844| 65.77999877929688| 4.4818E7| 61.67348098754883|   MICROSOFT|\n",
      "|2017-01-30 00:00:00| 65.79000091552734| 64.80000305175781| 65.69000244140625| 65.12999725341797|3.16514E7| 61.06404495239258|   MICROSOFT|\n",
      "|2017-01-31 00:00:00|  65.1500015258789| 64.26000213623047| 64.86000061035156|  64.6500015258789|2.52705E7| 60.61402130126953|   MICROSOFT|\n",
      "+-------------------+------------------+------------------+------------------+------------------+---------+------------------+------------+\n",
      "only showing top 20 rows\n",
      "\n"
     ]
    }
   ],
   "source": [
    "dfCol = StructType([StructField(\"Date\",TimestampType()), StructField(\"High\",DoubleType()), StructField(\"Low\",DoubleType()), StructField(\"Open\",DoubleType()), StructField(\"Close\",DoubleType()), StructField(\"Volume\", DoubleType()), StructField(\"Adj Close\", DoubleType()), StructField(\"company_name\",StringType())])\n",
    "dfSchema = StructType(dfCol)\n",
    "\n",
    "df = spark.read.csv(data_folder, header=True, sep=',', schema=dfSchema)\n",
    "df.show()"
   ]
  },
  {
   "cell_type": "markdown",
   "metadata": {},
   "source": [
    "# Data available"
   ]
  },
  {
   "cell_type": "markdown",
   "metadata": {},
   "source": [
    "The following function allow you to explore the dataset. A widget is available to facilitate the visualisation and allow to dynamically change the stock."
   ]
  },
  {
   "cell_type": "code",
   "execution_count": 5,
   "metadata": {},
   "outputs": [],
   "source": [
    "def explore_ds(df, input):\n",
    "\tdf_one = df.filter(df.company_name == input).orderBy('Date')\n",
    "\n",
    "\t# Show the first and last 40 rows of stock price\n",
    "\tprint('First 40 lines :')\n",
    "\tspark.createDataFrame(df_one.head(40)).show(40)\n",
    "\tprint('Last 40 lines :')\n",
    "\tspark.createDataFrame(df_one.tail(40)).show(40)\n",
    "\n",
    "\t# Get the number of observations\n",
    "\tprint(f'Number of observations : {df_one.count()}')\n",
    "\n",
    "\t# Period\n",
    "\tdini = df_one.select(min('Date')).collect()[0][0]\n",
    "\tdfin = df_one.select(max('Date')).collect()[0][0]\n",
    "\tinter = (dfin - dini).days\n",
    "\tprint(f'Period between {dini} and {dfin} : {inter} days')\n",
    "\n",
    "\t# Descriptive statistics\n",
    "\tprint('Statistics :')\n",
    "\tdf_one.summary().show()\n",
    "\n",
    "\t# Number of missing values\n",
    "\tprint('Missing values :')\n",
    "\tdf_one.select([count(when(col(c).isNull(), c)).alias(c) for c in df_one.columns]).show()\n",
    "\n",
    "\t# Correlation between values\n",
    "\tcols = [\"High\", \"Low\", \"Open\", \"Close\", \"Volume\", \"Adj Close\"]\n",
    "\tfor i in range(len(cols)):\n",
    "\t\tfor j in range(i + 1, len(cols)):\n",
    "\t\t\tprint(f\"Correlation {cols[i]}/{cols[j]}: {df_one.corr(cols[i], cols[j])}\")\n"
   ]
  },
  {
   "cell_type": "code",
   "execution_count": 6,
   "metadata": {},
   "outputs": [
    {
     "data": {
      "application/vnd.jupyter.widget-view+json": {
       "model_id": "3b13d784812540d9897f988f15b30f55",
       "version_major": 2,
       "version_minor": 0
      },
      "text/plain": [
       "Dropdown(description='Input', options=(('AMAZON', 0), ('APPLE', 1), ('FACEBOOK', 2), ('GOOGLE', 3), ('MICROSOF…"
      ]
     },
     "metadata": {},
     "output_type": "display_data"
    },
    {
     "data": {
      "application/vnd.jupyter.widget-view+json": {
       "model_id": "e8db39a7a2d74697a293ccaa93b7b2c6",
       "version_major": 2,
       "version_minor": 0
      },
      "text/plain": [
       "Output()"
      ]
     },
     "metadata": {},
     "output_type": "display_data"
    }
   ],
   "source": [
    "def display_info_by_company(df):\n",
    "    w_output = widgets.Output()\n",
    "    w_inputs = widgets.Dropdown(\n",
    "        options=[(companies[i], i) for i in range(len(companies))],\n",
    "        value=0,\n",
    "        description=\"Input\",\n",
    "    )\n",
    "\n",
    "    def intern_display(change):\n",
    "        w_output.clear_output()\n",
    "        with w_output:\n",
    "            input = w_inputs.options[w_inputs.value][0]\n",
    "            explore_ds(df, input)\n",
    "        \n",
    "    w_inputs.observe(intern_display)\n",
    "    display(w_inputs)\n",
    "    display(w_output)\n",
    "\n",
    "display_info_by_company(df)"
   ]
  },
  {
   "cell_type": "markdown",
   "metadata": {},
   "source": [
    "## Exploration"
   ]
  },
  {
   "cell_type": "code",
   "execution_count": 7,
   "metadata": {},
   "outputs": [],
   "source": [
    "# used to change date granularity\n",
    "granularity = {\n",
    "    'day' : ['company_name', year('Date').alias('year'), month('Date').alias('month'),  dayofmonth('Date').alias('day')],\n",
    "    'week' : ['company_name', year('Date').alias('year'), weekofyear('Date').alias('week')],\n",
    "    'month' : ['company_name', year('Date').alias('year'), month('Date').alias('month')],\n",
    "    'year' : ['company_name', year('Date').alias('year')]\n",
    "}\n",
    "\n",
    "# used to visualize the data in chronological order\n",
    "order_by = {\n",
    "\t'day' : ['year', 'month', 'day'],\n",
    "\t'week' : ['year', 'week'],\n",
    "\t'month' : ['year', 'month'],\n",
    "\t'year' : ['year'],\n",
    "}\n",
    "\n",
    "columns = ['Close', 'Open', 'High', 'Low', 'Volume', 'Adj Close']"
   ]
  },
  {
   "cell_type": "markdown",
   "metadata": {},
   "source": [
    "We start the exploration by computing the average values for the open and close price as well as the volume for dfferent time periods."
   ]
  },
  {
   "cell_type": "code",
   "execution_count": 8,
   "metadata": {},
   "outputs": [],
   "source": [
    "def compute_average(cur_df, gran = 'year', cols = (mean('Open').alias('Open_Mean'), mean('Close').alias('Close_mean'), mean('Volume').alias('Volume_mean'))):\n",
    "    return (cur_df\n",
    "    .groupBy(granularity[gran])\n",
    "    .agg(*cols).orderBy(order_by[gran]))"
   ]
  },
  {
   "cell_type": "markdown",
   "metadata": {},
   "source": [
    "We then compute the variation of the average values of the close price and the volume."
   ]
  },
  {
   "cell_type": "code",
   "execution_count": 9,
   "metadata": {},
   "outputs": [],
   "source": [
    "def compute_variation(cur_df, gran = 'year', cols = (mean('Close').alias('Close_mean'), mean('Volume').alias('Volume_mean'))):\n",
    "    cur_df = compute_average(df, gran, cols)\n",
    "    my_window = Window.partitionBy(\"company_name\").orderBy(order_by[gran])\n",
    "    cur_df = cur_df.withColumn(\"prev_close\", lag(cur_df.Close_mean).over(my_window))\n",
    "    cur_df = cur_df.withColumn(\"Close_diff\", when(isnull(cur_df.Close_mean - cur_df.prev_close), 0)\n",
    "                            .otherwise(cur_df.Close_mean - cur_df.prev_close))\n",
    "    cur_df = cur_df.drop(\"prev_close\")\n",
    "\n",
    "    cur_df = cur_df.withColumn(\"prev_volume\", lag(cur_df.Volume_mean).over(my_window))\n",
    "    cur_df = cur_df.withColumn(\"Volume_diff\", when(isnull(cur_df.Volume_mean - cur_df.prev_volume), 0)\n",
    "                                .otherwise(cur_df.Volume_mean - cur_df.prev_volume))\n",
    "    cur_df = cur_df.drop(\"prev_volume\")\n",
    "    return cur_df"
   ]
  },
  {
   "cell_type": "markdown",
   "metadata": {},
   "source": [
    "The following function is a generic function enabling dynamic visualisation with widgets."
   ]
  },
  {
   "cell_type": "code",
   "execution_count": 10,
   "metadata": {},
   "outputs": [],
   "source": [
    "def display_frame(func, df, cols = (mean('Open').alias('Open_Mean'), mean('Close').alias('Close_mean'), mean('Volume').alias('Volume_mean'))):\n",
    "    w_granu = widgets.RadioButtons(\n",
    "        options=granularity.keys(),\n",
    "        value=list(granularity.keys())[0],\n",
    "        description=\"Granularity\",\n",
    "    )\n",
    "\n",
    "    w_output_g = widgets.Output()\n",
    "\n",
    "    def f(change):\n",
    "        w_output_g.clear_output()\n",
    "        with w_output_g :\n",
    "            func(df, w_granu.value, cols).show()\n",
    "                \n",
    "\n",
    "    w_granu.observe(f)\n",
    "    display(w_granu)\n",
    "    display(w_output_g)\n"
   ]
  },
  {
   "cell_type": "code",
   "execution_count": 11,
   "metadata": {},
   "outputs": [
    {
     "data": {
      "application/vnd.jupyter.widget-view+json": {
       "model_id": "eb41f16bc81b4ad9ae9b9a4221b09331",
       "version_major": 2,
       "version_minor": 0
      },
      "text/plain": [
       "RadioButtons(description='Granularity', options=('day', 'week', 'month', 'year'), value='day')"
      ]
     },
     "metadata": {},
     "output_type": "display_data"
    },
    {
     "data": {
      "application/vnd.jupyter.widget-view+json": {
       "model_id": "9861644db84648fabb9168fa799911a8",
       "version_major": 2,
       "version_minor": 0
      },
      "text/plain": [
       "Output()"
      ]
     },
     "metadata": {},
     "output_type": "display_data"
    }
   ],
   "source": [
    "display_frame(compute_variation, df)"
   ]
  },
  {
   "cell_type": "markdown",
   "metadata": {},
   "source": [
    "We add a column containing the daily return."
   ]
  },
  {
   "cell_type": "code",
   "execution_count": 12,
   "metadata": {},
   "outputs": [
    {
     "name": "stdout",
     "output_type": "stream",
     "text": [
      "+-------------------+------------------+------------------+------------------+------------------+---------+------------------+------------+--------------------+\n",
      "|               Date|              High|               Low|              Open|             Close|   Volume|         Adj Close|company_name|        Daily return|\n",
      "+-------------------+------------------+------------------+------------------+------------------+---------+------------------+------------+--------------------+\n",
      "|2017-01-03 00:00:00| 62.84000015258789|62.130001068115234|62.790000915527344| 62.58000183105469|2.06941E7| 58.67324447631836|   MICROSOFT| 0.20999908447265625|\n",
      "|2017-01-04 00:00:00|             62.75|62.119998931884766| 62.47999954223633| 62.29999923706055|  2.134E7| 58.41072463989258|   MICROSOFT| 0.18000030517578125|\n",
      "|2017-01-05 00:00:00| 62.65999984741211|62.029998779296875|62.189998626708984| 62.29999923706055| 2.4876E7| 58.41072463989258|   MICROSOFT| -0.1100006103515625|\n",
      "|2017-01-06 00:00:00|63.150001525878906|62.040000915527344| 62.29999923706055| 62.84000015258789|1.99229E7|58.917015075683594|   MICROSOFT| -0.5400009155273438|\n",
      "|2017-01-09 00:00:00| 63.08000183105469|62.540000915527344|  62.7599983215332| 62.63999938964844|2.03827E7|58.729496002197266|   MICROSOFT| 0.11999893188476562|\n",
      "|2017-01-10 00:00:00| 63.06999969482422|62.279998779296875| 62.72999954223633|62.619998931884766| 1.8593E7| 58.71074676513672|   MICROSOFT|  0.1100006103515625|\n",
      "|2017-01-11 00:00:00| 63.22999954223633| 62.43000030517578| 62.61000061035156|63.189998626708984|2.15173E7| 59.24515914916992|   MICROSOFT| -0.5799980163574219|\n",
      "|2017-01-12 00:00:00|63.400001525878906| 61.95000076293945|63.060001373291016| 62.61000061035156|2.09682E7| 58.70137023925781|   MICROSOFT|  0.4500007629394531|\n",
      "|2017-01-13 00:00:00|62.869998931884766|62.349998474121094|62.619998931884766| 62.70000076293945|1.94223E7|  58.7857551574707|   MICROSOFT| -0.0800018310546875|\n",
      "|2017-01-17 00:00:00| 62.70000076293945|62.029998779296875| 62.68000030517578|62.529998779296875| 2.0664E7| 58.62636947631836|   MICROSOFT| 0.15000152587890625|\n",
      "|2017-01-18 00:00:00| 62.70000076293945|62.119998931884766| 62.66999816894531|              62.5|1.96701E7| 58.59824752807617|   MICROSOFT|  0.1699981689453125|\n",
      "|2017-01-19 00:00:00| 62.97999954223633| 62.20000076293945|  62.2400016784668| 62.29999923706055|1.84517E7| 58.41072463989258|   MICROSOFT|   -0.05999755859375|\n",
      "|2017-01-20 00:00:00| 62.81999969482422|62.369998931884766| 62.66999816894531|  62.7400016784668|3.02135E7| 58.82326126098633|   MICROSOFT|-0.07000350952148438|\n",
      "|2017-01-23 00:00:00|63.119998931884766| 62.56999969482422| 62.70000076293945|62.959999084472656|2.30976E7| 59.02952575683594|   MICROSOFT| -0.2599983215332031|\n",
      "|2017-01-24 00:00:00|  63.7400016784668|62.939998626708984| 63.20000076293945| 63.52000045776367|2.46729E7|59.554569244384766|   MICROSOFT|-0.31999969482421875|\n",
      "|2017-01-25 00:00:00|  64.0999984741211| 63.45000076293945| 63.95000076293945| 63.68000030517578|2.36727E7| 59.70457458496094|   MICROSOFT|  0.2700004577636719|\n",
      "|2017-01-26 00:00:00| 64.54000091552734| 63.54999923706055| 64.12000274658203|  64.2699966430664|4.35546E7| 60.25773620605469|   MICROSOFT|  -0.149993896484375|\n",
      "|2017-01-27 00:00:00| 65.91000366210938| 64.88999938964844| 65.38999938964844| 65.77999877929688| 4.4818E7| 61.67348098754883|   MICROSOFT| -0.3899993896484375|\n",
      "|2017-01-30 00:00:00| 65.79000091552734| 64.80000305175781| 65.69000244140625| 65.12999725341797|3.16514E7| 61.06404495239258|   MICROSOFT|  0.5600051879882812|\n",
      "|2017-01-31 00:00:00|  65.1500015258789| 64.26000213623047| 64.86000061035156|  64.6500015258789|2.52705E7| 60.61402130126953|   MICROSOFT| 0.20999908447265625|\n",
      "+-------------------+------------------+------------------+------------------+------------------+---------+------------------+------------+--------------------+\n",
      "only showing top 20 rows\n",
      "\n"
     ]
    }
   ],
   "source": [
    "# Daily return\n",
    "def add_daily_return(df):\n",
    "\treturn df.withColumn('Daily return', col('Open') - col('Close'))\n",
    "\n",
    "df_dr = add_daily_return(df)\n",
    "df_dr.show()"
   ]
  },
  {
   "cell_type": "markdown",
   "metadata": {},
   "source": [
    "Max daily return :"
   ]
  },
  {
   "cell_type": "code",
   "execution_count": 13,
   "metadata": {},
   "outputs": [],
   "source": [
    "# Highest daily return\n",
    "def get_max_daily_return(df):\n",
    "\tdf = add_daily_return(df)\n",
    "\treturn df.select(max('Daily return')).collect()[0][0]"
   ]
  },
  {
   "cell_type": "code",
   "execution_count": 14,
   "metadata": {},
   "outputs": [
    {
     "name": "stdout",
     "output_type": "stream",
     "text": [
      "+-------------------+---------------+-----------------+----------------+------+---------+---------+------------+---------------+\n",
      "|               Date|           High|              Low|            Open| Close|   Volume|Adj Close|company_name|   Daily return|\n",
      "+-------------------+---------------+-----------------+----------------+------+---------+---------+------------+---------------+\n",
      "|2020-07-13 00:00:00|3344.2900390625|3068.389892578125|3251.06005859375|3104.0|7720400.0|   3104.0|      AMAZON|147.06005859375|\n",
      "+-------------------+---------------+-----------------+----------------+------+---------+---------+------------+---------------+\n",
      "\n"
     ]
    }
   ],
   "source": [
    "max_daily_return = get_max_daily_return(df)\n",
    "df_dr.filter(col('Daily return') == max_daily_return).show()"
   ]
  },
  {
   "cell_type": "markdown",
   "metadata": {},
   "source": [
    "Visualisation of the average daily return for different time periods :"
   ]
  },
  {
   "cell_type": "code",
   "execution_count": 15,
   "metadata": {},
   "outputs": [
    {
     "data": {
      "application/vnd.jupyter.widget-view+json": {
       "model_id": "9cf1db73549040a98feb5d007685cbcf",
       "version_major": 2,
       "version_minor": 0
      },
      "text/plain": [
       "RadioButtons(description='Granularity', options=('day', 'week', 'month', 'year'), value='day')"
      ]
     },
     "metadata": {},
     "output_type": "display_data"
    },
    {
     "data": {
      "application/vnd.jupyter.widget-view+json": {
       "model_id": "c30449e3987540a59cb4e8ce4f7b2dfa",
       "version_major": 2,
       "version_minor": 0
      },
      "text/plain": [
       "Output()"
      ]
     },
     "metadata": {},
     "output_type": "display_data"
    }
   ],
   "source": [
    "def get_average_daily_return(df, gran, var):\n",
    "    df = add_daily_return(df)\n",
    "    return compute_average(df, gran, var)\n",
    "\n",
    "display_frame(get_average_daily_return, df, (mean('Open').alias('Open_Mean'), mean('Close').alias('Close_mean'), mean('Daily return').alias('Average daily return')))"
   ]
  },
  {
   "cell_type": "markdown",
   "metadata": {},
   "source": [
    "We can also plot these values, to better visualize them."
   ]
  },
  {
   "cell_type": "code",
   "execution_count": 16,
   "metadata": {},
   "outputs": [],
   "source": [
    "def plot_frame(df):\n",
    "\tcolors = {\n",
    "\t\t'APPLE': 'r',\n",
    "\t\t'AMAZON': 'b',\n",
    "\t\t'FACEBOOK': 'c',\n",
    "\t\t'GOOGLE': 'y',\n",
    "\t\t'MICROSOFT': 'm',\n",
    "\t\t'TESLA': 'k',\n",
    "\t\t'ZOOM': 'g'\n",
    "\t}\n",
    "\n",
    "\tfig, axs = plt.subplots(3, 3)\n",
    "\n",
    "\tj = 0\n",
    "\tfor gran in ['year', 'week', 'day']:\n",
    "\t\tdf_tmp = compute_average(df, gran, (mean('Daily return').alias('Daily return Mean'),\n",
    "\t\t\t\t\t\t\t\t\t\t\tmean('Open').alias('Open Mean'), \n",
    "\t\t\t\t\t\t\t\t\t\t\tmean('Close').alias('Close mean'), \n",
    "\t\t\t\t\t\t\t\t\t\t\tmin('Date').alias('Date')))\n",
    "\t\tmin_date = df_tmp.select(min('Date')).collect()[0][0]\n",
    "\t\tmax_date = df_tmp.select(max('Date')).collect()[0][0]\n",
    "\t\t\n",
    "\t\ti = 0\n",
    "\t\tfor cur_graph in ['Close', 'Open', 'Daily return']:\n",
    "\n",
    "\t\t\tfor name, color in colors.items():\n",
    "\t\t\t\ttmp_col = (df_tmp\n",
    "\t\t\t\t\t\t.orderBy('Date')\n",
    "\t\t\t\t\t\t.filter(df_tmp.company_name == name))\n",
    "\t\t\t\taxs[i, j].plot(tmp_col.select('Date').collect(),\n",
    "\t\t\t\t\t\t\ttmp_col.select(cur_graph + ' Mean').collect(),\n",
    "\t\t\t\t\t\t\tcolor=color,\n",
    "\t\t\t\t\t\t\tlabel=name)\n",
    "\n",
    "\t\t\taxs[i, j].set_xlim((min_date, max_date))\n",
    "\t\t\taxs[i, j].set_title(f'{cur_graph} of stocks per {gran}')\n",
    "\n",
    "\t\t\ti += 1\n",
    "\n",
    "\t\tj += 1\n",
    "\n",
    "\taxs[0, 0].legend()\n",
    "\n",
    "\tplt.show()\n"
   ]
  },
  {
   "cell_type": "code",
   "execution_count": 17,
   "metadata": {},
   "outputs": [
    {
     "data": {
      "image/png": "[encoded data removed]",
      "text/plain": [
       "<Figure size 864x720 with 9 Axes>"
      ]
     },
     "metadata": {
      "needs_background": "light"
     },
     "output_type": "display_data"
    }
   ],
   "source": [
    "plot_frame(df_dr)"
   ]
  },
  {
   "cell_type": "markdown",
   "metadata": {},
   "source": [
    "# Moving Average"
   ]
  },
  {
   "cell_type": "markdown",
   "metadata": {},
   "source": [
    "A good metric is the moving average, that better show global tendancies"
   ]
  },
  {
   "cell_type": "code",
   "execution_count": 18,
   "metadata": {},
   "outputs": [],
   "source": [
    "def moving_average(dataframe, column_name, nb_point):\n",
    "    def days(i): \n",
    "        return i * 86400\n",
    "    w = Window().partitionBy(\"company_name\").orderBy(col(\"Date\").cast('long')).rangeBetween(-days(nb_point), 0)\n",
    "\n",
    "    return dataframe.withColumn('Moving average', avg(column_name).over(w))"
   ]
  },
  {
   "cell_type": "code",
   "execution_count": 19,
   "metadata": {},
   "outputs": [
    {
     "name": "stdout",
     "output_type": "stream",
     "text": [
      "+-------------------+-----------------+-----------------+-----------------+-----------------+---------+-----------------+------------+-----------------+\n",
      "|               Date|             High|              Low|             Open|            Close|   Volume|        Adj Close|company_name|   Moving average|\n",
      "+-------------------+-----------------+-----------------+-----------------+-----------------+---------+-----------------+------------+-----------------+\n",
      "|2017-01-03 00:00:00| 758.760009765625|747.7000122070312|757.9199829101562|753.6699829101562|3521100.0|753.6699829101562|      AMAZON|753.6699829101562|\n",
      "|2017-01-04 00:00:00|759.6799926757812|754.2000122070312|758.3900146484375|757.1799926757812|2510500.0|757.1799926757812|      AMAZON|755.4249877929688|\n",
      "|2017-01-05 00:00:00|782.4000244140625| 760.260009765625|761.5499877929688|780.4500122070312|5830100.0|780.4500122070312|      AMAZON|763.7666625976562|\n",
      "|2017-01-06 00:00:00|799.4400024414062|  778.47998046875|782.3599853515625| 795.989990234375|5986200.0| 795.989990234375|      AMAZON|771.8224945068359|\n",
      "|2017-01-09 00:00:00|  801.77001953125|  791.77001953125|            798.0|796.9199829101562|3446100.0|796.9199829101562|      AMAZON|782.6349945068359|\n",
      "|2017-01-10 00:00:00|            798.0|789.5399780273438|796.5999755859375|795.9000244140625|2558400.0|795.9000244140625|      AMAZON|792.3150024414062|\n",
      "|2017-01-11 00:00:00|            799.5| 789.510009765625|793.6599731445312|  799.02001953125|2992800.0|  799.02001953125|      AMAZON|796.9575042724609|\n",
      "|2017-01-12 00:00:00|814.1300048828125|            799.5|800.3099975585938|813.6400146484375|4873900.0|813.6400146484375|      AMAZON|801.3700103759766|\n",
      "|2017-01-13 00:00:00|821.6500244140625|811.4000244140625|814.3200073242188|817.1400146484375|3791900.0|817.1400146484375|      AMAZON|804.5240112304688|\n",
      "|2017-01-17 00:00:00|            816.0|803.4400024414062|815.7000122070312| 809.719970703125|3670500.0| 809.719970703125|      AMAZON|            813.5|\n",
      "|2017-01-18 00:00:00|  811.72998046875|  804.27001953125|            809.5|  807.47998046875|2354200.0|  807.47998046875|      AMAZON|811.4466552734375|\n",
      "|2017-01-19 00:00:00| 813.510009765625|807.3200073242188|            810.0|809.0399780273438|2540800.0|809.0399780273438|      AMAZON|808.7466430664062|\n",
      "|2017-01-20 00:00:00|  816.02001953125| 806.260009765625| 815.280029296875|808.3300170898438|3376200.0|808.3300170898438|      AMAZON|808.6424865722656|\n",
      "|2017-01-23 00:00:00|            818.5|805.0800170898438|806.7999877929688|817.8800048828125|2797500.0|817.8800048828125|      AMAZON|810.6824951171875|\n",
      "|2017-01-24 00:00:00| 823.989990234375|            814.5|            822.0|822.4400024414062|2971700.0|822.4400024414062|      AMAZON|814.4225006103516|\n",
      "|2017-01-25 00:00:00|837.4199829101562|825.2899780273438|825.7899780273438|  836.52001953125|3922600.0|  836.52001953125|      AMAZON|821.2925109863281|\n",
      "|2017-01-26 00:00:00|843.8400268554688|            833.0| 835.530029296875|839.1500244140625|3586300.0|839.1500244140625|      AMAZON|828.9975128173828|\n",
      "|2017-01-27 00:00:00|839.7000122070312|829.4400024414062|            839.0|  835.77001953125|2998700.0|  835.77001953125|      AMAZON|830.3520141601563|\n",
      "|2017-01-30 00:00:00|            833.5|816.3800048828125|            833.0|830.3800048828125|3747300.0|830.3800048828125|      AMAZON|835.4550170898438|\n",
      "|2017-01-31 00:00:00| 826.989990234375|819.5599975585938|           823.75|  823.47998046875|3137200.0|  823.47998046875|      AMAZON|832.1950073242188|\n",
      "+-------------------+-----------------+-----------------+-----------------+-----------------+---------+-----------------+------------+-----------------+\n",
      "only showing top 20 rows\n",
      "\n"
     ]
    }
   ],
   "source": [
    "moving_average(df, 'Close', 5).show()"
   ]
  },
  {
   "cell_type": "markdown",
   "metadata": {},
   "source": [
    "# Correlation"
   ]
  },
  {
   "cell_type": "markdown",
   "metadata": {},
   "source": [
    "We can display the coefficient of correlations between columns"
   ]
  },
  {
   "cell_type": "code",
   "execution_count": 20,
   "metadata": {},
   "outputs": [],
   "source": [
    "from pyspark.sql.functions import corr\n",
    "\n",
    "def correlation(data_frame_A, data_frame_B, col_name):\n",
    "    \"\"\"\n",
    "        data_frame_A: has one column Date to join the data\n",
    "        data_frame_B: has one column Date to join the data\n",
    "        col_name: must be present in both data frame\n",
    "    \"\"\"\n",
    "    return data_frame_A.join(data_frame_B.withColumnRenamed(col_name, col_name + \"_B\"), on=\"Date\",how=\"inner\").corr(col_name, col_name + \"_B\")"
   ]
  },
  {
   "cell_type": "code",
   "execution_count": 21,
   "metadata": {},
   "outputs": [
    {
     "data": {
      "application/vnd.jupyter.widget-view+json": {
       "model_id": "33e7767b4ec64cb89a212d70a7bdff21",
       "version_major": 2,
       "version_minor": 0
      },
      "text/plain": [
       "Dropdown(description='Company A', options=(('AMAZON', 0), ('APPLE', 1), ('FACEBOOK', 2), ('GOOGLE', 3), ('MICR…"
      ]
     },
     "metadata": {},
     "output_type": "display_data"
    },
    {
     "data": {
      "application/vnd.jupyter.widget-view+json": {
       "model_id": "f4d408cd7dd44b83b3411619131df026",
       "version_major": 2,
       "version_minor": 0
      },
      "text/plain": [
       "Dropdown(description='Company B', options=(('AMAZON', 0), ('APPLE', 1), ('FACEBOOK', 2), ('GOOGLE', 3), ('MICR…"
      ]
     },
     "metadata": {},
     "output_type": "display_data"
    },
    {
     "data": {
      "application/vnd.jupyter.widget-view+json": {
       "model_id": "e55f193d3f404d92b471f52879077779",
       "version_major": 2,
       "version_minor": 0
      },
      "text/plain": [
       "Dropdown(description='Column', options=(('Close', 0), ('Open', 1), ('High', 2), ('Low', 3), ('Volume', 4), ('A…"
      ]
     },
     "metadata": {},
     "output_type": "display_data"
    },
    {
     "data": {
      "application/vnd.jupyter.widget-view+json": {
       "model_id": "47594f41168544ae9c8b191837db19df",
       "version_major": 2,
       "version_minor": 0
      },
      "text/plain": [
       "Output()"
      ]
     },
     "metadata": {},
     "output_type": "display_data"
    }
   ],
   "source": [
    "def display_cor(df):\n",
    "    w_output = widgets.Output()\n",
    "    w_inputs_A = widgets.Dropdown(\n",
    "        options=[(companies[i], i) for i in range(len(companies))],\n",
    "        value=0,\n",
    "        description=\"Company A\",\n",
    "    )\n",
    "    w_inputs_B = widgets.Dropdown(\n",
    "        options=[(companies[i], i) for i in range(len(companies))],\n",
    "        value=0,\n",
    "        description=\"Company B\",\n",
    "    )\n",
    "    \n",
    "    w_inputs_column = widgets.Dropdown(\n",
    "        options=[(columns[i], i) for i in range(len(columns))],\n",
    "        value=0,\n",
    "        description=\"Column\",\n",
    "    )\n",
    "\n",
    "    all_w_inputs = [w_inputs_A, w_inputs_B ,w_inputs_column]\n",
    "\n",
    "    def cor_display(change):\n",
    "        w_output.clear_output()\n",
    "        with w_output:\n",
    "            comp_A = w_inputs_A.options[w_inputs_A.value][0]\n",
    "            company_A_df = df.filter(df.company_name == comp_A)\n",
    "            \n",
    "            comp_B = w_inputs_B.options[w_inputs_B.value][0]\n",
    "            company_B_df = df.filter(df.company_name == comp_B)\n",
    "            \n",
    "            column = w_inputs_column.options[w_inputs_column.value][0]\n",
    "            \n",
    "            print(correlation(company_A_df, company_B_df, column))\n",
    "\n",
    "    for w in all_w_inputs:\n",
    "        w.observe(cor_display)\n",
    "        display(w)\n",
    "    display(w_output)\n",
    "\n",
    "display_cor(df)"
   ]
  },
  {
   "cell_type": "markdown",
   "metadata": {},
   "source": [
    "We can plot correlation matrices for better visualisation"
   ]
  },
  {
   "cell_type": "code",
   "execution_count": 22,
   "metadata": {},
   "outputs": [],
   "source": [
    "def compute_corr_for_col(df, col_name, companies):\n",
    "\n",
    "    corr = [None] * len(companies)\n",
    "    for i, comp in enumerate(companies):\n",
    "        corr[i] = [0.0] * len(companies)\n",
    "        for j in range(i):\n",
    "            corr[i][j] = corr[j][i]\n",
    "        for j, other in enumerate(companies[i:]):\n",
    "            corr[i][i + j] = correlation(df.filter(df.company_name == comp), df.filter(df.company_name == other), col_name)\n",
    "    \n",
    "    return spark.createDataFrame(\n",
    "        corr, ','.join([f\"{c} float\" for c in companies])\n",
    "    )\n",
    "\n",
    "\n",
    "\n",
    "def display_corr_for_cols(df, cols, companies, uniform_bar=False):\n",
    "    w = 3\n",
    "    h =  len(cols) // 3 + (0 if len(cols) % 3 == 0 else 1)\n",
    "    fig, axs = plt.subplots(h, w, figsize=(22, h * 4))\n",
    "    \n",
    "    for i, col in enumerate(cols):\n",
    "        df_corr = compute_corr_for_col(df, col, companies)\n",
    "        ax = axs[i // 3, i % 3] if len(cols) > 3 else axs[i]\n",
    "        mat = ax.matshow(df_corr.collect())\n",
    "        plt.sca(ax)\n",
    "        plt.xticks(range(len(companies)), companies, fontsize=14, rotation=45)\n",
    "        plt.yticks(range(len(companies)), companies, fontsize=14)\n",
    "        cb = fig.colorbar(mat, ax=ax,fraction=0.05, pad=0.08)\n",
    "        if uniform_bar:\n",
    "            mat.set_clim(-1, 1)\n",
    "        ax.tick_params(labelsize=14)\n",
    "        ax.title.set_text(f\"Correlation Matrix for column {col}\");\n",
    "    \n",
    "    for j in range(len(cols), w * h):\n",
    "        ax = axs[j // 3, j % 3] if len(cols) > 3 else axs[j]\n",
    "        ax.axis('off')\n",
    "        \n",
    "    plt.subplots_adjust(left=0.1,\n",
    "                    bottom=0.1, \n",
    "                    right=0.9, \n",
    "                    top=0.9, \n",
    "                    wspace=1, \n",
    "                    hspace=0.6)\n",
    "    plt.show()"
   ]
  },
  {
   "cell_type": "code",
   "execution_count": 62,
   "metadata": {},
   "outputs": [
    {
     "ename": "Py4JJavaError",
     "evalue": "An error occurred while calling o6869.collectToPython.\n: org.apache.spark.SparkException: Job aborted due to stage failure: Task 4 in stage 1737.0 failed 1 times, most recent failure: Lost task 4.0 in stage 1737.0 (TID 2732) (172.24.33.137 executor driver): org.apache.spark.api.python.PythonException: Traceback (most recent call last):\n  File \"/opt/spark/python/lib/pyspark.zip/pyspark/worker.py\", line 481, in main\n    raise RuntimeError((\"Python in worker has different version %s than that in \" +\nRuntimeError: Python in worker has different version 3.9 than that in driver 3.6, PySpark cannot run with different minor versions. Please check environment variables PYSPARK_PYTHON and PYSPARK_DRIVER_PYTHON are correctly set.\n\n\tat org.apache.spark.api.python.BasePythonRunner$ReaderIterator.handlePythonException(PythonRunner.scala:555)\n\tat org.apache.spark.api.python.PythonRunner$$anon$3.read(PythonRunner.scala:713)\n\tat org.apache.spark.api.python.PythonRunner$$anon$3.read(PythonRunner.scala:695)\n\tat org.apache.spark.api.python.BasePythonRunner$ReaderIterator.hasNext(PythonRunner.scala:508)\n\tat org.apache.spark.InterruptibleIterator.hasNext(InterruptibleIterator.scala:37)\n\tat scala.collection.Iterator$$anon$11.hasNext(Iterator.scala:491)\n\tat scala.collection.Iterator$$anon$10.hasNext(Iterator.scala:460)\n\tat scala.collection.Iterator$$anon$10.hasNext(Iterator.scala:460)\n\tat org.apache.spark.sql.catalyst.expressions.GeneratedClass$GeneratedIteratorForCodegenStage1.processNext(Unknown Source)\n\tat org.apache.spark.sql.execution.BufferedRowIterator.hasNext(BufferedRowIterator.java:43)\n\tat org.apache.spark.sql.execution.WholeStageCodegenExec$$anon$1.hasNext(WholeStageCodegenExec.scala:759)\n\tat org.apache.spark.sql.execution.SparkPlan.$anonfun$getByteArrayRdd$1(SparkPlan.scala:349)\n\tat org.apache.spark.rdd.RDD.$anonfun$mapPartitionsInternal$2(RDD.scala:898)\n\tat org.apache.spark.rdd.RDD.$anonfun$mapPartitionsInternal$2$adapted(RDD.scala:898)\n\tat org.apache.spark.rdd.MapPartitionsRDD.compute(MapPartitionsRDD.scala:52)\n\tat org.apache.spark.rdd.RDD.computeOrReadCheckpoint(RDD.scala:373)\n\tat org.apache.spark.rdd.RDD.iterator(RDD.scala:337)\n\tat org.apache.spark.scheduler.ResultTask.runTask(ResultTask.scala:90)\n\tat org.apache.spark.scheduler.Task.run(Task.scala:131)\n\tat org.apache.spark.executor.Executor$TaskRunner.$anonfun$run$3(Executor.scala:506)\n\tat org.apache.spark.util.Utils$.tryWithSafeFinally(Utils.scala:1462)\n\tat org.apache.spark.executor.Executor$TaskRunner.run(Executor.scala:509)\n\tat java.base/java.util.concurrent.ThreadPoolExecutor.runWorker(ThreadPoolExecutor.java:1128)\n\tat java.base/java.util.concurrent.ThreadPoolExecutor$Worker.run(ThreadPoolExecutor.java:628)\n\tat java.base/java.lang.Thread.run(Thread.java:829)\n\nDriver stacktrace:\n\tat org.apache.spark.scheduler.DAGScheduler.failJobAndIndependentStages(DAGScheduler.scala:2454)\n\tat org.apache.spark.scheduler.DAGScheduler.$anonfun$abortStage$2(DAGScheduler.scala:2403)\n\tat org.apache.spark.scheduler.DAGScheduler.$anonfun$abortStage$2$adapted(DAGScheduler.scala:2402)\n\tat scala.collection.mutable.ResizableArray.foreach(ResizableArray.scala:62)\n\tat scala.collection.mutable.ResizableArray.foreach$(ResizableArray.scala:55)\n\tat scala.collection.mutable.ArrayBuffer.foreach(ArrayBuffer.scala:49)\n\tat org.apache.spark.scheduler.DAGScheduler.abortStage(DAGScheduler.scala:2402)\n\tat org.apache.spark.scheduler.DAGScheduler.$anonfun$handleTaskSetFailed$1(DAGScheduler.scala:1160)\n\tat org.apache.spark.scheduler.DAGScheduler.$anonfun$handleTaskSetFailed$1$adapted(DAGScheduler.scala:1160)\n\tat scala.Option.foreach(Option.scala:407)\n\tat org.apache.spark.scheduler.DAGScheduler.handleTaskSetFailed(DAGScheduler.scala:1160)\n\tat org.apache.spark.scheduler.DAGSchedulerEventProcessLoop.doOnReceive(DAGScheduler.scala:2642)\n\tat org.apache.spark.scheduler.DAGSchedulerEventProcessLoop.onReceive(DAGScheduler.scala:2584)\n\tat org.apache.spark.scheduler.DAGSchedulerEventProcessLoop.onReceive(DAGScheduler.scala:2573)\n\tat org.apache.spark.util.EventLoop$$anon$1.run(EventLoop.scala:49)\n\tat org.apache.spark.scheduler.DAGScheduler.runJob(DAGScheduler.scala:938)\n\tat org.apache.spark.SparkContext.runJob(SparkContext.scala:2214)\n\tat org.apache.spark.SparkContext.runJob(SparkContext.scala:2235)\n\tat org.apache.spark.SparkContext.runJob(SparkContext.scala:2254)\n\tat org.apache.spark.SparkContext.runJob(SparkContext.scala:2279)\n\tat org.apache.spark.rdd.RDD.$anonfun$collect$1(RDD.scala:1030)\n\tat org.apache.spark.rdd.RDDOperationScope$.withScope(RDDOperationScope.scala:151)\n\tat org.apache.spark.rdd.RDDOperationScope$.withScope(RDDOperationScope.scala:112)\n\tat org.apache.spark.rdd.RDD.withScope(RDD.scala:414)\n\tat org.apache.spark.rdd.RDD.collect(RDD.scala:1029)\n\tat org.apache.spark.sql.execution.SparkPlan.executeCollect(SparkPlan.scala:394)\n\tat org.apache.spark.sql.Dataset.$anonfun$collectToPython$1(Dataset.scala:3538)\n\tat org.apache.spark.sql.Dataset.$anonfun$withAction$1(Dataset.scala:3706)\n\tat org.apache.spark.sql.execution.SQLExecution$.$anonfun$withNewExecutionId$5(SQLExecution.scala:103)\n\tat org.apache.spark.sql.execution.SQLExecution$.withSQLConfPropagated(SQLExecution.scala:163)\n\tat org.apache.spark.sql.execution.SQLExecution$.$anonfun$withNewExecutionId$1(SQLExecution.scala:90)\n\tat org.apache.spark.sql.SparkSession.withActive(SparkSession.scala:775)\n\tat org.apache.spark.sql.execution.SQLExecution$.withNewExecutionId(SQLExecution.scala:64)\n\tat org.apache.spark.sql.Dataset.withAction(Dataset.scala:3704)\n\tat org.apache.spark.sql.Dataset.collectToPython(Dataset.scala:3535)\n\tat jdk.internal.reflect.GeneratedMethodAccessor87.invoke(Unknown Source)\n\tat java.base/jdk.internal.reflect.DelegatingMethodAccessorImpl.invoke(DelegatingMethodAccessorImpl.java:43)\n\tat java.base/java.lang.reflect.Method.invoke(Method.java:566)\n\tat py4j.reflection.MethodInvoker.invoke(MethodInvoker.java:244)\n\tat py4j.reflection.ReflectionEngine.invoke(ReflectionEngine.java:357)\n\tat py4j.Gateway.invoke(Gateway.java:282)\n\tat py4j.commands.AbstractCommand.invokeMethod(AbstractCommand.java:132)\n\tat py4j.commands.CallCommand.execute(CallCommand.java:79)\n\tat py4j.ClientServerConnection.waitForCommands(ClientServerConnection.java:182)\n\tat py4j.ClientServerConnection.run(ClientServerConnection.java:106)\n\tat java.base/java.lang.Thread.run(Thread.java:829)\nCaused by: org.apache.spark.api.python.PythonException: Traceback (most recent call last):\n  File \"/opt/spark/python/lib/pyspark.zip/pyspark/worker.py\", line 481, in main\n    raise RuntimeError((\"Python in worker has different version %s than that in \" +\nRuntimeError: Python in worker has different version 3.9 than that in driver 3.6, PySpark cannot run with different minor versions. Please check environment variables PYSPARK_PYTHON and PYSPARK_DRIVER_PYTHON are correctly set.\n\n\tat org.apache.spark.api.python.BasePythonRunner$ReaderIterator.handlePythonException(PythonRunner.scala:555)\n\tat org.apache.spark.api.python.PythonRunner$$anon$3.read(PythonRunner.scala:713)\n\tat org.apache.spark.api.python.PythonRunner$$anon$3.read(PythonRunner.scala:695)\n\tat org.apache.spark.api.python.BasePythonRunner$ReaderIterator.hasNext(PythonRunner.scala:508)\n\tat org.apache.spark.InterruptibleIterator.hasNext(InterruptibleIterator.scala:37)\n\tat scala.collection.Iterator$$anon$11.hasNext(Iterator.scala:491)\n\tat scala.collection.Iterator$$anon$10.hasNext(Iterator.scala:460)\n\tat scala.collection.Iterator$$anon$10.hasNext(Iterator.scala:460)\n\tat org.apache.spark.sql.catalyst.expressions.GeneratedClass$GeneratedIteratorForCodegenStage1.processNext(Unknown Source)\n\tat org.apache.spark.sql.execution.BufferedRowIterator.hasNext(BufferedRowIterator.java:43)\n\tat org.apache.spark.sql.execution.WholeStageCodegenExec$$anon$1.hasNext(WholeStageCodegenExec.scala:759)\n\tat org.apache.spark.sql.execution.SparkPlan.$anonfun$getByteArrayRdd$1(SparkPlan.scala:349)\n\tat org.apache.spark.rdd.RDD.$anonfun$mapPartitionsInternal$2(RDD.scala:898)\n\tat org.apache.spark.rdd.RDD.$anonfun$mapPartitionsInternal$2$adapted(RDD.scala:898)\n\tat org.apache.spark.rdd.MapPartitionsRDD.compute(MapPartitionsRDD.scala:52)\n\tat org.apache.spark.rdd.RDD.computeOrReadCheckpoint(RDD.scala:373)\n\tat org.apache.spark.rdd.RDD.iterator(RDD.scala:337)\n\tat org.apache.spark.scheduler.ResultTask.runTask(ResultTask.scala:90)\n\tat org.apache.spark.scheduler.Task.run(Task.scala:131)\n\tat org.apache.spark.executor.Executor$TaskRunner.$anonfun$run$3(Executor.scala:506)\n\tat org.apache.spark.util.Utils$.tryWithSafeFinally(Utils.scala:1462)\n\tat org.apache.spark.executor.Executor$TaskRunner.run(Executor.scala:509)\n\tat java.base/java.util.concurrent.ThreadPoolExecutor.runWorker(ThreadPoolExecutor.java:1128)\n\tat java.base/java.util.concurrent.ThreadPoolExecutor$Worker.run(ThreadPoolExecutor.java:628)\n\t... 1 more\n",
     "output_type": "error",
     "traceback": [
      "\u001b[0;31m---------------------------------------------------------------------------\u001b[0m",
      "\u001b[0;31mPy4JJavaError\u001b[0m                             Traceback (most recent call last)",
      "\u001b[0;32m<ipython-input-62-58d9172af70a>\u001b[0m in \u001b[0;36m<module>\u001b[0;34m\u001b[0m\n\u001b[0;32m----> 1\u001b[0;31m \u001b[0mdisplay_corr_for_cols\u001b[0m\u001b[0;34m(\u001b[0m\u001b[0mdf\u001b[0m\u001b[0;34m,\u001b[0m \u001b[0;34m[\u001b[0m\u001b[0;34m'Volume'\u001b[0m\u001b[0;34m,\u001b[0m \u001b[0;34m'Low'\u001b[0m\u001b[0;34m,\u001b[0m \u001b[0;34m'High'\u001b[0m\u001b[0;34m,\u001b[0m \u001b[0;34m'Open'\u001b[0m\u001b[0;34m,\u001b[0m \u001b[0;34m'Close'\u001b[0m\u001b[0;34m,\u001b[0m \u001b[0;34m'Adj Close'\u001b[0m\u001b[0;34m]\u001b[0m\u001b[0;34m,\u001b[0m \u001b[0mcompanies\u001b[0m\u001b[0;34m)\u001b[0m\u001b[0;34m\u001b[0m\u001b[0;34m\u001b[0m\u001b[0m\n\u001b[0m\u001b[1;32m      2\u001b[0m \u001b[0;34m\u001b[0m\u001b[0m\n\u001b[1;32m      3\u001b[0m \u001b[0mdisplay_corr_for_cols\u001b[0m\u001b[0;34m(\u001b[0m\u001b[0mdf\u001b[0m\u001b[0;34m,\u001b[0m \u001b[0;34m[\u001b[0m\u001b[0;34m'Volume'\u001b[0m\u001b[0;34m,\u001b[0m \u001b[0;34m'Low'\u001b[0m\u001b[0;34m,\u001b[0m \u001b[0;34m'High'\u001b[0m\u001b[0;34m,\u001b[0m \u001b[0;34m'Open'\u001b[0m\u001b[0;34m,\u001b[0m \u001b[0;34m'Close'\u001b[0m\u001b[0;34m,\u001b[0m \u001b[0;34m'Adj Close'\u001b[0m\u001b[0;34m]\u001b[0m\u001b[0;34m,\u001b[0m \u001b[0mcompanies\u001b[0m\u001b[0;34m,\u001b[0m \u001b[0muniform_bar\u001b[0m\u001b[0;34m=\u001b[0m\u001b[0;32mTrue\u001b[0m\u001b[0;34m)\u001b[0m\u001b[0;34m\u001b[0m\u001b[0;34m\u001b[0m\u001b[0m\n",
      "\u001b[0;32m<ipython-input-22-c016310b6bb8>\u001b[0m in \u001b[0;36mdisplay_corr_for_cols\u001b[0;34m(df, cols, companies, uniform_bar)\u001b[0m\n\u001b[1;32m     23\u001b[0m         \u001b[0mdf_corr\u001b[0m \u001b[0;34m=\u001b[0m \u001b[0mcompute_corr_for_col\u001b[0m\u001b[0;34m(\u001b[0m\u001b[0mdf\u001b[0m\u001b[0;34m,\u001b[0m \u001b[0mcol\u001b[0m\u001b[0;34m,\u001b[0m \u001b[0mcompanies\u001b[0m\u001b[0;34m)\u001b[0m\u001b[0;34m\u001b[0m\u001b[0;34m\u001b[0m\u001b[0m\n\u001b[1;32m     24\u001b[0m         \u001b[0max\u001b[0m \u001b[0;34m=\u001b[0m \u001b[0maxs\u001b[0m\u001b[0;34m[\u001b[0m\u001b[0mi\u001b[0m \u001b[0;34m//\u001b[0m \u001b[0;36m3\u001b[0m\u001b[0;34m,\u001b[0m \u001b[0mi\u001b[0m \u001b[0;34m%\u001b[0m \u001b[0;36m3\u001b[0m\u001b[0;34m]\u001b[0m \u001b[0;32mif\u001b[0m \u001b[0mlen\u001b[0m\u001b[0;34m(\u001b[0m\u001b[0mcols\u001b[0m\u001b[0;34m)\u001b[0m \u001b[0;34m>\u001b[0m \u001b[0;36m3\u001b[0m \u001b[0;32melse\u001b[0m \u001b[0maxs\u001b[0m\u001b[0;34m[\u001b[0m\u001b[0mi\u001b[0m\u001b[0;34m]\u001b[0m\u001b[0;34m\u001b[0m\u001b[0;34m\u001b[0m\u001b[0m\n\u001b[0;32m---> 25\u001b[0;31m         \u001b[0mmat\u001b[0m \u001b[0;34m=\u001b[0m \u001b[0max\u001b[0m\u001b[0;34m.\u001b[0m\u001b[0mmatshow\u001b[0m\u001b[0;34m(\u001b[0m\u001b[0mdf_corr\u001b[0m\u001b[0;34m.\u001b[0m\u001b[0mcollect\u001b[0m\u001b[0;34m(\u001b[0m\u001b[0;34m)\u001b[0m\u001b[0;34m)\u001b[0m\u001b[0;34m\u001b[0m\u001b[0;34m\u001b[0m\u001b[0m\n\u001b[0m\u001b[1;32m     26\u001b[0m         \u001b[0mplt\u001b[0m\u001b[0;34m.\u001b[0m\u001b[0msca\u001b[0m\u001b[0;34m(\u001b[0m\u001b[0max\u001b[0m\u001b[0;34m)\u001b[0m\u001b[0;34m\u001b[0m\u001b[0;34m\u001b[0m\u001b[0m\n\u001b[1;32m     27\u001b[0m         \u001b[0mplt\u001b[0m\u001b[0;34m.\u001b[0m\u001b[0mxticks\u001b[0m\u001b[0;34m(\u001b[0m\u001b[0mrange\u001b[0m\u001b[0;34m(\u001b[0m\u001b[0mlen\u001b[0m\u001b[0;34m(\u001b[0m\u001b[0mcompanies\u001b[0m\u001b[0;34m)\u001b[0m\u001b[0;34m)\u001b[0m\u001b[0;34m,\u001b[0m \u001b[0mcompanies\u001b[0m\u001b[0;34m,\u001b[0m \u001b[0mfontsize\u001b[0m\u001b[0;34m=\u001b[0m\u001b[0;36m14\u001b[0m\u001b[0;34m,\u001b[0m \u001b[0mrotation\u001b[0m\u001b[0;34m=\u001b[0m\u001b[0;36m45\u001b[0m\u001b[0;34m)\u001b[0m\u001b[0;34m\u001b[0m\u001b[0;34m\u001b[0m\u001b[0m\n",
      "\u001b[0;32m~/.local/lib/python3.6/site-packages/pyspark/sql/dataframe.py\u001b[0m in \u001b[0;36mcollect\u001b[0;34m(self)\u001b[0m\n\u001b[1;32m    691\u001b[0m         \"\"\"\n\u001b[1;32m    692\u001b[0m         \u001b[0;32mwith\u001b[0m \u001b[0mSCCallSiteSync\u001b[0m\u001b[0;34m(\u001b[0m\u001b[0mself\u001b[0m\u001b[0;34m.\u001b[0m\u001b[0m_sc\u001b[0m\u001b[0;34m)\u001b[0m \u001b[0;32mas\u001b[0m \u001b[0mcss\u001b[0m\u001b[0;34m:\u001b[0m\u001b[0;34m\u001b[0m\u001b[0;34m\u001b[0m\u001b[0m\n\u001b[0;32m--> 693\u001b[0;31m             \u001b[0msock_info\u001b[0m \u001b[0;34m=\u001b[0m \u001b[0mself\u001b[0m\u001b[0;34m.\u001b[0m\u001b[0m_jdf\u001b[0m\u001b[0;34m.\u001b[0m\u001b[0mcollectToPython\u001b[0m\u001b[0;34m(\u001b[0m\u001b[0;34m)\u001b[0m\u001b[0;34m\u001b[0m\u001b[0;34m\u001b[0m\u001b[0m\n\u001b[0m\u001b[1;32m    694\u001b[0m         \u001b[0;32mreturn\u001b[0m \u001b[0mlist\u001b[0m\u001b[0;34m(\u001b[0m\u001b[0m_load_from_socket\u001b[0m\u001b[0;34m(\u001b[0m\u001b[0msock_info\u001b[0m\u001b[0;34m,\u001b[0m \u001b[0mBatchedSerializer\u001b[0m\u001b[0;34m(\u001b[0m\u001b[0mPickleSerializer\u001b[0m\u001b[0;34m(\u001b[0m\u001b[0;34m)\u001b[0m\u001b[0;34m)\u001b[0m\u001b[0;34m)\u001b[0m\u001b[0;34m)\u001b[0m\u001b[0;34m\u001b[0m\u001b[0;34m\u001b[0m\u001b[0m\n\u001b[1;32m    695\u001b[0m \u001b[0;34m\u001b[0m\u001b[0m\n",
      "\u001b[0;32m~/.local/lib/python3.6/site-packages/py4j/java_gateway.py\u001b[0m in \u001b[0;36m__call__\u001b[0;34m(self, *args)\u001b[0m\n\u001b[1;32m   1320\u001b[0m         \u001b[0manswer\u001b[0m \u001b[0;34m=\u001b[0m \u001b[0mself\u001b[0m\u001b[0;34m.\u001b[0m\u001b[0mgateway_client\u001b[0m\u001b[0;34m.\u001b[0m\u001b[0msend_command\u001b[0m\u001b[0;34m(\u001b[0m\u001b[0mcommand\u001b[0m\u001b[0;34m)\u001b[0m\u001b[0;34m\u001b[0m\u001b[0;34m\u001b[0m\u001b[0m\n\u001b[1;32m   1321\u001b[0m         return_value = get_return_value(\n\u001b[0;32m-> 1322\u001b[0;31m             answer, self.gateway_client, self.target_id, self.name)\n\u001b[0m\u001b[1;32m   1323\u001b[0m \u001b[0;34m\u001b[0m\u001b[0m\n\u001b[1;32m   1324\u001b[0m         \u001b[0;32mfor\u001b[0m \u001b[0mtemp_arg\u001b[0m \u001b[0;32min\u001b[0m \u001b[0mtemp_args\u001b[0m\u001b[0;34m:\u001b[0m\u001b[0;34m\u001b[0m\u001b[0;34m\u001b[0m\u001b[0m\n",
      "\u001b[0;32m~/.local/lib/python3.6/site-packages/pyspark/sql/utils.py\u001b[0m in \u001b[0;36mdeco\u001b[0;34m(*a, **kw)\u001b[0m\n\u001b[1;32m    109\u001b[0m     \u001b[0;32mdef\u001b[0m \u001b[0mdeco\u001b[0m\u001b[0;34m(\u001b[0m\u001b[0;34m*\u001b[0m\u001b[0ma\u001b[0m\u001b[0;34m,\u001b[0m \u001b[0;34m**\u001b[0m\u001b[0mkw\u001b[0m\u001b[0;34m)\u001b[0m\u001b[0;34m:\u001b[0m\u001b[0;34m\u001b[0m\u001b[0;34m\u001b[0m\u001b[0m\n\u001b[1;32m    110\u001b[0m         \u001b[0;32mtry\u001b[0m\u001b[0;34m:\u001b[0m\u001b[0;34m\u001b[0m\u001b[0;34m\u001b[0m\u001b[0m\n\u001b[0;32m--> 111\u001b[0;31m             \u001b[0;32mreturn\u001b[0m \u001b[0mf\u001b[0m\u001b[0;34m(\u001b[0m\u001b[0;34m*\u001b[0m\u001b[0ma\u001b[0m\u001b[0;34m,\u001b[0m \u001b[0;34m**\u001b[0m\u001b[0mkw\u001b[0m\u001b[0;34m)\u001b[0m\u001b[0;34m\u001b[0m\u001b[0;34m\u001b[0m\u001b[0m\n\u001b[0m\u001b[1;32m    112\u001b[0m         \u001b[0;32mexcept\u001b[0m \u001b[0mpy4j\u001b[0m\u001b[0;34m.\u001b[0m\u001b[0mprotocol\u001b[0m\u001b[0;34m.\u001b[0m\u001b[0mPy4JJavaError\u001b[0m \u001b[0;32mas\u001b[0m \u001b[0me\u001b[0m\u001b[0;34m:\u001b[0m\u001b[0;34m\u001b[0m\u001b[0;34m\u001b[0m\u001b[0m\n\u001b[1;32m    113\u001b[0m             \u001b[0mconverted\u001b[0m \u001b[0;34m=\u001b[0m \u001b[0mconvert_exception\u001b[0m\u001b[0;34m(\u001b[0m\u001b[0me\u001b[0m\u001b[0;34m.\u001b[0m\u001b[0mjava_exception\u001b[0m\u001b[0;34m)\u001b[0m\u001b[0;34m\u001b[0m\u001b[0;34m\u001b[0m\u001b[0m\n",
      "\u001b[0;32m~/.local/lib/python3.6/site-packages/py4j/protocol.py\u001b[0m in \u001b[0;36mget_return_value\u001b[0;34m(answer, gateway_client, target_id, name)\u001b[0m\n\u001b[1;32m    326\u001b[0m                 raise Py4JJavaError(\n\u001b[1;32m    327\u001b[0m                     \u001b[0;34m\"An error occurred while calling {0}{1}{2}.\\n\"\u001b[0m\u001b[0;34m.\u001b[0m\u001b[0;34m\u001b[0m\u001b[0;34m\u001b[0m\u001b[0m\n\u001b[0;32m--> 328\u001b[0;31m                     format(target_id, \".\", name), value)\n\u001b[0m\u001b[1;32m    329\u001b[0m             \u001b[0;32melse\u001b[0m\u001b[0;34m:\u001b[0m\u001b[0;34m\u001b[0m\u001b[0;34m\u001b[0m\u001b[0m\n\u001b[1;32m    330\u001b[0m                 raise Py4JError(\n",
      "\u001b[0;31mPy4JJavaError\u001b[0m: An error occurred while calling o6869.collectToPython.\n: org.apache.spark.SparkException: Job aborted due to stage failure: Task 4 in stage 1737.0 failed 1 times, most recent failure: Lost task 4.0 in stage 1737.0 (TID 2732) (172.24.33.137 executor driver): org.apache.spark.api.python.PythonException: Traceback (most recent call last):\n  File \"/opt/spark/python/lib/pyspark.zip/pyspark/worker.py\", line 481, in main\n    raise RuntimeError((\"Python in worker has different version %s than that in \" +\nRuntimeError: Python in worker has different version 3.9 than that in driver 3.6, PySpark cannot run with different minor versions. Please check environment variables PYSPARK_PYTHON and PYSPARK_DRIVER_PYTHON are correctly set.\n\n\tat org.apache.spark.api.python.BasePythonRunner$ReaderIterator.handlePythonException(PythonRunner.scala:555)\n\tat org.apache.spark.api.python.PythonRunner$$anon$3.read(PythonRunner.scala:713)\n\tat org.apache.spark.api.python.PythonRunner$$anon$3.read(PythonRunner.scala:695)\n\tat org.apache.spark.api.python.BasePythonRunner$ReaderIterator.hasNext(PythonRunner.scala:508)\n\tat org.apache.spark.InterruptibleIterator.hasNext(InterruptibleIterator.scala:37)\n\tat scala.collection.Iterator$$anon$11.hasNext(Iterator.scala:491)\n\tat scala.collection.Iterator$$anon$10.hasNext(Iterator.scala:460)\n\tat scala.collection.Iterator$$anon$10.hasNext(Iterator.scala:460)\n\tat org.apache.spark.sql.catalyst.expressions.GeneratedClass$GeneratedIteratorForCodegenStage1.processNext(Unknown Source)\n\tat org.apache.spark.sql.execution.BufferedRowIterator.hasNext(BufferedRowIterator.java:43)\n\tat org.apache.spark.sql.execution.WholeStageCodegenExec$$anon$1.hasNext(WholeStageCodegenExec.scala:759)\n\tat org.apache.spark.sql.execution.SparkPlan.$anonfun$getByteArrayRdd$1(SparkPlan.scala:349)\n\tat org.apache.spark.rdd.RDD.$anonfun$mapPartitionsInternal$2(RDD.scala:898)\n\tat org.apache.spark.rdd.RDD.$anonfun$mapPartitionsInternal$2$adapted(RDD.scala:898)\n\tat org.apache.spark.rdd.MapPartitionsRDD.compute(MapPartitionsRDD.scala:52)\n\tat org.apache.spark.rdd.RDD.computeOrReadCheckpoint(RDD.scala:373)\n\tat org.apache.spark.rdd.RDD.iterator(RDD.scala:337)\n\tat org.apache.spark.scheduler.ResultTask.runTask(ResultTask.scala:90)\n\tat org.apache.spark.scheduler.Task.run(Task.scala:131)\n\tat org.apache.spark.executor.Executor$TaskRunner.$anonfun$run$3(Executor.scala:506)\n\tat org.apache.spark.util.Utils$.tryWithSafeFinally(Utils.scala:1462)\n\tat org.apache.spark.executor.Executor$TaskRunner.run(Executor.scala:509)\n\tat java.base/java.util.concurrent.ThreadPoolExecutor.runWorker(ThreadPoolExecutor.java:1128)\n\tat java.base/java.util.concurrent.ThreadPoolExecutor$Worker.run(ThreadPoolExecutor.java:628)\n\tat java.base/java.lang.Thread.run(Thread.java:829)\n\nDriver stacktrace:\n\tat org.apache.spark.scheduler.DAGScheduler.failJobAndIndependentStages(DAGScheduler.scala:2454)\n\tat org.apache.spark.scheduler.DAGScheduler.$anonfun$abortStage$2(DAGScheduler.scala:2403)\n\tat org.apache.spark.scheduler.DAGScheduler.$anonfun$abortStage$2$adapted(DAGScheduler.scala:2402)\n\tat scala.collection.mutable.ResizableArray.foreach(ResizableArray.scala:62)\n\tat scala.collection.mutable.ResizableArray.foreach$(ResizableArray.scala:55)\n\tat scala.collection.mutable.ArrayBuffer.foreach(ArrayBuffer.scala:49)\n\tat org.apache.spark.scheduler.DAGScheduler.abortStage(DAGScheduler.scala:2402)\n\tat org.apache.spark.scheduler.DAGScheduler.$anonfun$handleTaskSetFailed$1(DAGScheduler.scala:1160)\n\tat org.apache.spark.scheduler.DAGScheduler.$anonfun$handleTaskSetFailed$1$adapted(DAGScheduler.scala:1160)\n\tat scala.Option.foreach(Option.scala:407)\n\tat org.apache.spark.scheduler.DAGScheduler.handleTaskSetFailed(DAGScheduler.scala:1160)\n\tat org.apache.spark.scheduler.DAGSchedulerEventProcessLoop.doOnReceive(DAGScheduler.scala:2642)\n\tat org.apache.spark.scheduler.DAGSchedulerEventProcessLoop.onReceive(DAGScheduler.scala:2584)\n\tat org.apache.spark.scheduler.DAGSchedulerEventProcessLoop.onReceive(DAGScheduler.scala:2573)\n\tat org.apache.spark.util.EventLoop$$anon$1.run(EventLoop.scala:49)\n\tat org.apache.spark.scheduler.DAGScheduler.runJob(DAGScheduler.scala:938)\n\tat org.apache.spark.SparkContext.runJob(SparkContext.scala:2214)\n\tat org.apache.spark.SparkContext.runJob(SparkContext.scala:2235)\n\tat org.apache.spark.SparkContext.runJob(SparkContext.scala:2254)\n\tat org.apache.spark.SparkContext.runJob(SparkContext.scala:2279)\n\tat org.apache.spark.rdd.RDD.$anonfun$collect$1(RDD.scala:1030)\n\tat org.apache.spark.rdd.RDDOperationScope$.withScope(RDDOperationScope.scala:151)\n\tat org.apache.spark.rdd.RDDOperationScope$.withScope(RDDOperationScope.scala:112)\n\tat org.apache.spark.rdd.RDD.withScope(RDD.scala:414)\n\tat org.apache.spark.rdd.RDD.collect(RDD.scala:1029)\n\tat org.apache.spark.sql.execution.SparkPlan.executeCollect(SparkPlan.scala:394)\n\tat org.apache.spark.sql.Dataset.$anonfun$collectToPython$1(Dataset.scala:3538)\n\tat org.apache.spark.sql.Dataset.$anonfun$withAction$1(Dataset.scala:3706)\n\tat org.apache.spark.sql.execution.SQLExecution$.$anonfun$withNewExecutionId$5(SQLExecution.scala:103)\n\tat org.apache.spark.sql.execution.SQLExecution$.withSQLConfPropagated(SQLExecution.scala:163)\n\tat org.apache.spark.sql.execution.SQLExecution$.$anonfun$withNewExecutionId$1(SQLExecution.scala:90)\n\tat org.apache.spark.sql.SparkSession.withActive(SparkSession.scala:775)\n\tat org.apache.spark.sql.execution.SQLExecution$.withNewExecutionId(SQLExecution.scala:64)\n\tat org.apache.spark.sql.Dataset.withAction(Dataset.scala:3704)\n\tat org.apache.spark.sql.Dataset.collectToPython(Dataset.scala:3535)\n\tat jdk.internal.reflect.GeneratedMethodAccessor87.invoke(Unknown Source)\n\tat java.base/jdk.internal.reflect.DelegatingMethodAccessorImpl.invoke(DelegatingMethodAccessorImpl.java:43)\n\tat java.base/java.lang.reflect.Method.invoke(Method.java:566)\n\tat py4j.reflection.MethodInvoker.invoke(MethodInvoker.java:244)\n\tat py4j.reflection.ReflectionEngine.invoke(ReflectionEngine.java:357)\n\tat py4j.Gateway.invoke(Gateway.java:282)\n\tat py4j.commands.AbstractCommand.invokeMethod(AbstractCommand.java:132)\n\tat py4j.commands.CallCommand.execute(CallCommand.java:79)\n\tat py4j.ClientServerConnection.waitForCommands(ClientServerConnection.java:182)\n\tat py4j.ClientServerConnection.run(ClientServerConnection.java:106)\n\tat java.base/java.lang.Thread.run(Thread.java:829)\nCaused by: org.apache.spark.api.python.PythonException: Traceback (most recent call last):\n  File \"/opt/spark/python/lib/pyspark.zip/pyspark/worker.py\", line 481, in main\n    raise RuntimeError((\"Python in worker has different version %s than that in \" +\nRuntimeError: Python in worker has different version 3.9 than that in driver 3.6, PySpark cannot run with different minor versions. Please check environment variables PYSPARK_PYTHON and PYSPARK_DRIVER_PYTHON are correctly set.\n\n\tat org.apache.spark.api.python.BasePythonRunner$ReaderIterator.handlePythonException(PythonRunner.scala:555)\n\tat org.apache.spark.api.python.PythonRunner$$anon$3.read(PythonRunner.scala:713)\n\tat org.apache.spark.api.python.PythonRunner$$anon$3.read(PythonRunner.scala:695)\n\tat org.apache.spark.api.python.BasePythonRunner$ReaderIterator.hasNext(PythonRunner.scala:508)\n\tat org.apache.spark.InterruptibleIterator.hasNext(InterruptibleIterator.scala:37)\n\tat scala.collection.Iterator$$anon$11.hasNext(Iterator.scala:491)\n\tat scala.collection.Iterator$$anon$10.hasNext(Iterator.scala:460)\n\tat scala.collection.Iterator$$anon$10.hasNext(Iterator.scala:460)\n\tat org.apache.spark.sql.catalyst.expressions.GeneratedClass$GeneratedIteratorForCodegenStage1.processNext(Unknown Source)\n\tat org.apache.spark.sql.execution.BufferedRowIterator.hasNext(BufferedRowIterator.java:43)\n\tat org.apache.spark.sql.execution.WholeStageCodegenExec$$anon$1.hasNext(WholeStageCodegenExec.scala:759)\n\tat org.apache.spark.sql.execution.SparkPlan.$anonfun$getByteArrayRdd$1(SparkPlan.scala:349)\n\tat org.apache.spark.rdd.RDD.$anonfun$mapPartitionsInternal$2(RDD.scala:898)\n\tat org.apache.spark.rdd.RDD.$anonfun$mapPartitionsInternal$2$adapted(RDD.scala:898)\n\tat org.apache.spark.rdd.MapPartitionsRDD.compute(MapPartitionsRDD.scala:52)\n\tat org.apache.spark.rdd.RDD.computeOrReadCheckpoint(RDD.scala:373)\n\tat org.apache.spark.rdd.RDD.iterator(RDD.scala:337)\n\tat org.apache.spark.scheduler.ResultTask.runTask(ResultTask.scala:90)\n\tat org.apache.spark.scheduler.Task.run(Task.scala:131)\n\tat org.apache.spark.executor.Executor$TaskRunner.$anonfun$run$3(Executor.scala:506)\n\tat org.apache.spark.util.Utils$.tryWithSafeFinally(Utils.scala:1462)\n\tat org.apache.spark.executor.Executor$TaskRunner.run(Executor.scala:509)\n\tat java.base/java.util.concurrent.ThreadPoolExecutor.runWorker(ThreadPoolExecutor.java:1128)\n\tat java.base/java.util.concurrent.ThreadPoolExecutor$Worker.run(ThreadPoolExecutor.java:628)\n\t... 1 more\n"
     ]
    },
    {
     "data": {
      "image/png": "[encoded data removed]",
      "text/plain": [
       "<Figure size 1584x576 with 6 Axes>"
      ]
     },
     "metadata": {
      "needs_background": "light"
     },
     "output_type": "display_data"
    }
   ],
   "source": [
    "display_corr_for_cols(df, ['Volume', 'Low', 'High', 'Open', 'Close', 'Adj Close'], companies)\n",
    "\n",
    "display_corr_for_cols(df, ['Volume', 'Low', 'High', 'Open', 'Close', 'Adj Close'], companies, uniform_bar=True)"
   ]
  },
  {
   "cell_type": "markdown",
   "metadata": {},
   "source": [
    "# Return rate"
   ]
  },
  {
   "cell_type": "markdown",
   "metadata": {},
   "source": [
    "We can display the return rate, which indicates the net gain or loss of an investment over a specified time period, expressed as a percentage of the investment’s initial cost."
   ]
  },
  {
   "cell_type": "code",
   "execution_count": 25,
   "metadata": {},
   "outputs": [],
   "source": [
    "def compute_return_rate(cur_df, gran, var):\n",
    "    cur_df = compute_variation(cur_df, gran, var)\n",
    "    cur_df = cur_df.withColumn(\"Return_rate\", when(isnull(cur_df.Close_diff / cur_df.Close_mean * 100), 0)\n",
    "                            .otherwise(cur_df.Close_diff / cur_df.Close_mean * 100))\n",
    "    return cur_df"
   ]
  },
  {
   "cell_type": "code",
   "execution_count": 26,
   "metadata": {},
   "outputs": [
    {
     "data": {
      "application/vnd.jupyter.widget-view+json": {
       "model_id": "63acd254fa81478d950038d77680e2e2",
       "version_major": 2,
       "version_minor": 0
      },
      "text/plain": [
       "RadioButtons(description='Granularity', options=('day', 'week', 'month', 'year'), value='day')"
      ]
     },
     "metadata": {},
     "output_type": "display_data"
    },
    {
     "data": {
      "application/vnd.jupyter.widget-view+json": {
       "model_id": "0c60d9c47dee41a1af39785961b9db93",
       "version_major": 2,
       "version_minor": 0
      },
      "text/plain": [
       "Output()"
      ]
     },
     "metadata": {},
     "output_type": "display_data"
    }
   ],
   "source": [
    "display_frame(compute_return_rate, df, (mean('Open').alias('Open_Mean'), mean('Close').alias('Close_mean'), mean('Volume').alias('Volume_mean')))"
   ]
  },
  {
   "cell_type": "markdown",
   "metadata": {},
   "source": [
    "# Best return rate"
   ]
  },
  {
   "cell_type": "markdown",
   "metadata": {},
   "source": [
    "We can also return the company with the best return rate for a given month"
   ]
  },
  {
   "cell_type": "code",
   "execution_count": 27,
   "metadata": {},
   "outputs": [],
   "source": [
    "from dateutil.relativedelta import relativedelta\n",
    "\n",
    "def best_return_rate(data_frame, initial_date_str, gran):\n",
    "    if gran == \"month\":\n",
    "        period_size = relativedelta(months=1)\n",
    "        date = datetime.strptime(initial_date_str, '%Y-%m').date()\n",
    "    elif gran == \"year\":\n",
    "        period_size = relativedelta(years=1)\n",
    "        date = datetime.strptime(initial_date_str, '%Y').date()\n",
    "    else:\n",
    "        print('Bad granularity, accepted are : month or year')\n",
    "        return\n",
    "    \n",
    "    initial_date = date\n",
    "    end_date = date + period_size\n",
    "    \n",
    "    df = compute_return_rate(data_frame, gran, (mean('Open').alias('Open_Mean'), mean('Close').alias('Close_mean'), mean('Volume').alias('Volume_mean'), min('Date').alias('Date')))\n",
    "    \n",
    "    df = df.filter(df.Date >= initial_date)\n",
    "    df = df.filter(df.Date < end_date)\n",
    "    \n",
    "    df = df.select('Date', 'company_name', 'Return_rate')\n",
    "    \n",
    "    max_rr = df.select(max('Return_rate')).collect()[0][0]\n",
    "    df = df.filter(df.Return_rate == max_rr) \n",
    "    \n",
    "    return df"
   ]
  },
  {
   "cell_type": "code",
   "execution_count": 28,
   "metadata": {},
   "outputs": [
    {
     "name": "stdout",
     "output_type": "stream",
     "text": [
      "+-------------------+------------+-----------------+\n",
      "|               Date|company_name|      Return_rate|\n",
      "+-------------------+------------+-----------------+\n",
      "|2018-01-02 00:00:00|      AMAZON|41.02749740637896|\n",
      "+-------------------+------------+-----------------+\n",
      "\n"
     ]
    }
   ],
   "source": [
    "best_return_rate(df, '2018', 'year').show()"
   ]
  },
  {
   "cell_type": "markdown",
   "metadata": {},
   "source": [
    "# Insights"
   ]
  },
  {
   "cell_type": "markdown",
   "metadata": {},
   "source": [
    "Some insights that we can implement :\n",
    "\n",
    "- stability (différence between 'High' and 'Low')\n",
    "- add median\n",
    "- add standart deviation and interquartile difference\n",
    "- stocks prediction with time series prediciton model (RNN)\n",
    "- lowest daily return\n",
    "- lowest return rate"
   ]
  },
  {
   "cell_type": "markdown",
   "metadata": {},
   "source": [
    "# Prediction"
   ]
  },
  {
   "cell_type": "markdown",
   "metadata": {},
   "source": [
    "In this section, we predict futur Open - Close - High - Low according to the previous one (the last date available in the dataset). This can be computed following different granularity (day, week, month (not enough data for years)), with different lag value and for different offsets."
   ]
  },
  {
   "cell_type": "code",
   "execution_count": 29,
   "metadata": {},
   "outputs": [],
   "source": [
    "def buildRegDF(df, company, gran=\"day\", max_lag=5, data_cols = ['Close', 'Open', 'High', 'Low'], lag_cols = ['Close', 'Open', 'High', 'Low']):\n",
    "    # cols = (min('Date').alias('Date'), mean('Close').alias('Close'), mean('Open').alias('Open'), mean('High').alias('High'), mean('Low').alias('Low'))\n",
    "    cols = [min('Date').alias('Date')]\n",
    "    for col in data_cols:\n",
    "        cols.append(mean(col).alias(col))\n",
    "    \n",
    "    df_base = df.filter(df.company_name == company)\n",
    "\n",
    "    df_lr = compute_average(df_base, gran, cols)\n",
    "    my_window = Window.orderBy(order_by[gran])\n",
    "\n",
    "    inputCols = []\n",
    "    for i in range(1, max_lag):\n",
    "        for c in lag_cols :\n",
    "            col_name = f\"{c} {gran}-{i}\"\n",
    "            df_lr = df_lr.withColumn(col_name, lag(df_lr[c], i).over(my_window))\n",
    "            inputCols.append(col_name)\n",
    "\n",
    "    df_lr = df_lr.dropna()\n",
    "    return df_lr, inputCols"
   ]
  },
  {
   "cell_type": "code",
   "execution_count": 30,
   "metadata": {},
   "outputs": [],
   "source": [
    "from pyspark.ml import Pipeline\n",
    "from pyspark.ml.regression import LinearRegression, IsotonicRegression\n",
    "from pyspark.ml.evaluation import RegressionEvaluator\n",
    "from pyspark.ml.feature import VectorAssembler\n",
    "from pyspark.sql.functions import lit\n",
    "\n",
    "def buildRegPipelineModel(df_lr, colToEstimate, inputCols):\n",
    "    trainDF, testDF = df_lr.randomSplit([.8, .2], seed=42)\n",
    "    print(f\"There are {trainDF.cache().count()} rows in the training set, and {testDF.cache().count()} in the test set\")\n",
    "\n",
    "    vecAssembler = VectorAssembler(inputCols=inputCols, outputCol=\"features\")\n",
    "\n",
    "    reg = LinearRegression(featuresCol=\"features\", labelCol=colToEstimate) \n",
    "\n",
    "    pipeline = Pipeline(stages=[vecAssembler, reg])\n",
    "    pipelineModel = pipeline.fit(trainDF)\n",
    "\n",
    "    predTrainDF = pipelineModel.transform(trainDF)\n",
    "    predTestDF = pipelineModel.transform(testDF)\n",
    "\n",
    "    regressionMeanEvaluator = RegressionEvaluator(predictionCol=\"prediction\", labelCol=colToEstimate, metricName=\"rmse\")\n",
    "\n",
    "    print(f\"The RMSE for predicting the {colToEstimate} (train) is: {regressionMeanEvaluator.evaluate(predTrainDF):.2f}\")\n",
    "    print(f\"The RMSE for predicting the {colToEstimate} (test) is: {regressionMeanEvaluator.evaluate(predTestDF):.2f}\")\n",
    "\n",
    "    return pipelineModel\n",
    "\n"
   ]
  },
  {
   "cell_type": "code",
   "execution_count": 31,
   "metadata": {},
   "outputs": [],
   "source": [
    "from pyspark.sql.functions import date_add, add_months\n",
    "\n",
    "def shiftColumn(df, inputCols, cols_name):\n",
    "    cols_shift = cols_name + inputCols\n",
    "    for i in range(len(cols_shift) - 1, len(cols_name) - 1, -1):\n",
    "        df = df.withColumn(cols_shift[i], col(cols_shift[i - len(cols_name)]))\n",
    "    return df\n",
    "\n",
    "def predictCaracteristic(df, company, offset, gran=\"day\", max_lag=2, lag_cols = ['Close', 'Open', 'High', 'Low'], data_cols = ['Close', 'Open', 'High', 'Low']):\n",
    "    df_lr, inputCols = buildRegDF(df, company, gran, max_lag, lag_cols=lag_cols, data_cols=data_cols)\n",
    "\n",
    "    mDate = df_lr.select(max('Date')).collect()[0][0]\n",
    "    last_line = df_lr.orderBy(col('Date').asc()).filter(df_lr.Date == mDate)\n",
    "\n",
    "    pipelines = [buildRegPipelineModel(df_lr, col, inputCols) for col in lag_cols]\n",
    "\n",
    "    predictions = last_line.select(lag_cols).withColumn(\"Date\", lit(mDate))\n",
    "    \n",
    "    for i in range(offset):\n",
    "        last_line = shiftColumn(last_line, inputCols, lag_cols)\n",
    "        for ch in range(len(lag_cols)):\n",
    "            last_line = pipelines[ch].transform(last_line)\n",
    "            last_line = last_line.withColumn(lag_cols[ch], last_line.prediction).drop(\"prediction\", \"features\")\n",
    "        \n",
    "        if gran == \"year\":\n",
    "            c_date = date_add(lit(mDate), 12 * (i + 1))\n",
    "        elif gran == \"month\":\n",
    "            c_date = add_months(lit(mDate), i + 1)\n",
    "        elif gran == \"week\":\n",
    "            c_date = date_add(lit(mDate), 7 * (i + 1))\n",
    "        else:\n",
    "            c_date = date_add(lit(mDate), i + 1)\n",
    "        \n",
    "        predictions = predictions.union(last_line.select(data_cols).withColumn(\"Date\", lit(c_date)))\n",
    "    \n",
    "    return predictions"
   ]
  },
  {
   "cell_type": "code",
   "execution_count": 32,
   "metadata": {},
   "outputs": [],
   "source": [
    "# import tensorflow as tf\n",
    "# from tensorflow.keras import Sequential\n",
    "import numpy as np\n",
    "\n",
    "import tensorflow.keras.models as km\n",
    "import tensorflow.keras.layers as kl\n",
    "\n",
    "from sklearn.preprocessing import MinMaxScaler\n",
    "from sklearn.model_selection import train_test_split\n",
    "from sklearn.metrics import mean_squared_error"
   ]
  },
  {
   "cell_type": "code",
   "execution_count": 67,
   "metadata": {},
   "outputs": [],
   "source": [
    "def build_model(data_cols):\n",
    "\tinputs = kl.Input((None, len(data_cols)))\n",
    "\tx = kl.GRU(units=15 * len(data_cols), return_sequences=True)(inputs)\n",
    "\t# x = kl.TimeDistributed(kl.Dense(20, activation='relu'))(x)\n",
    "\toutputs = kl.TimeDistributed(kl.Dense(len(data_cols), activation='linear'))(x)\n",
    "\tmodel = km.Model(inputs, outputs)\n",
    "\n",
    "\tmodel.compile(loss=\"mae\", optimizer='adam', metrics=['mse'])\n",
    "\treturn model"
   ]
  },
  {
   "cell_type": "code",
   "execution_count": 55,
   "metadata": {},
   "outputs": [],
   "source": [
    "def get_data(arr, data_cols, offset):\n",
    "\tarr = arr.reshape(arr.shape[0], -1, len(data_cols))\n",
    "\tpre, post, = arr[:, :-offset], arr[:, offset:]\n",
    "\treturn train_test_split(pre, post, test_size=0.2, shuffle=False)"
   ]
  },
  {
   "cell_type": "code",
   "execution_count": 89,
   "metadata": {},
   "outputs": [],
   "source": [
    "\n",
    "def predict_gru(df, company, offset=1, gran=\"day\", max_lag=2, data_cols = ['Close', 'Open', 'High', 'Low'], global_train=False, scale=True):\n",
    "\tif global_train:\n",
    "\t\tres = None\n",
    "\t\tfor comp in companies:\n",
    "\t\t\ttemp, _ = buildRegDF(df, comp, gran=gran, max_lag = max_lag, lag_cols = data_cols, data_cols = data_cols)\n",
    "\t\t\tif res is None : \n",
    "\t\t\t\tres = temp\n",
    "\t\t\telse :\n",
    "\t\t\t\tres = res.union(temp)\n",
    "\t\t\tif comp == company :\n",
    "\t\t\t\tarr = np.array(res.drop('company_name', 'year', 'month', 'day', 'Date').collect())\n",
    "\t\t\t\t_, X_test, _, y_test = get_data(arr, data_cols, offset)\n",
    "\telse:\n",
    "\t\tres, _ = buildRegDF(df, company, gran=gran, max_lag = max_lag, lag_cols = data_cols, data_cols = data_cols)\n",
    "\t\t\n",
    "\tarr = np.array(res.drop('company_name', 'year', 'month', 'day', 'Date').collect())\n",
    "\t\n",
    "\tif scale:\n",
    "\t\tscaler = MinMaxScaler()\n",
    "\t\tarr = scaler.fit_transform(arr)\n",
    "  \n",
    "\tif not global_train:\n",
    "\t\tX_train, X_test, y_train, y_test = get_data(arr, data_cols, offset)\n",
    "\telse :\n",
    "\t\tX_train, _, y_train, _ = get_data(arr, data_cols, offset)\n",
    "\t\t\n",
    "\t\n",
    "\tmodel = build_model(data_cols)\n",
    "\tmodel.fit(X_train, y_train, batch_size = 20, validation_split=0.2, epochs=10)\n",
    " \n",
    "\ty_pred = model.predict(X_test)\n",
    "\ty_pred = y_pred.reshape(y_pred.shape[0], -1)\n",
    " \n",
    "\t# rescaling\n",
    "\tif scale:\n",
    "\t\tmax_val = scaler.data_max_[:y_pred.shape[1]]\n",
    "\t\tmin_val = scaler.data_min_[:y_pred.shape[1]]\n",
    "\t\ty_pred = (y_pred*(max_val - min_val)) + min_val\n",
    " \n",
    "\ty_pred = y_pred.reshape(y_pred.shape[0], -1, len(data_cols))\n",
    " \n",
    "\tfor i in range(len(data_cols)):\n",
    "\t\tprint(f\"The RMSE for predicting the {data_cols[i]} (train) is: {mean_squared_error(y_pred[:,:,i], y_test.reshape(y_pred.shape)[:,:,i], squared=False):.2f}\")\n",
    "\t\tprint(f\"The RMSE for predicting the {data_cols[i]} (test) is: {mean_squared_error(y_pred[:,:,i], y_test.reshape(y_pred.shape)[:,:,i], squared=False):.2f}\")"
   ]
  },
  {
   "cell_type": "code",
   "execution_count": 81,
   "metadata": {},
   "outputs": [
    {
     "data": {
      "application/vnd.jupyter.widget-view+json": {
       "model_id": "f88b920e77714a1ab0bf2218d40585e8",
       "version_major": 2,
       "version_minor": 0
      },
      "text/plain": [
       "Box(children=(Dropdown(description='Company', options=(('AMAZON', 0), ('APPLE', 1), ('FACEBOOK', 2), ('GOOGLE'…"
      ]
     },
     "metadata": {},
     "output_type": "display_data"
    },
    {
     "data": {
      "application/vnd.jupyter.widget-view+json": {
       "model_id": "b97054f2ae0c44169eb90d100bd8e213",
       "version_major": 2,
       "version_minor": 0
      },
      "text/plain": [
       "Output()"
      ]
     },
     "metadata": {},
     "output_type": "display_data"
    },
    {
     "data": {
      "application/vnd.jupyter.widget-view+json": {
       "model_id": "3236ffc3ad19412d916c981128ad9e74",
       "version_major": 2,
       "version_minor": 0
      },
      "text/plain": [
       "Dropdown(description='Prediction model', options=('Linear Regression', 'Recurrent Neural Network (GRU)'), valu…"
      ]
     },
     "metadata": {},
     "output_type": "display_data"
    }
   ],
   "source": [
    "def display_prediction(df):\n",
    "\tw_output = widgets.Output()\n",
    "\tw_company = widgets.Dropdown(\n",
    "\t\toptions=[(companies[i], i) for i in range(len(companies))],\n",
    "\t\tvalue=0,\n",
    "\t\tdescription=\"Company\",\n",
    "\t)\n",
    "\n",
    "\tgranularity_name = list(granularity.keys())\n",
    "\tgranularity_name.remove(\"year\")\n",
    "\tw_input_granularity = widgets.Dropdown(\n",
    "\t\toptions=[(granularity_name[i], i)\n",
    "\t\t\t\t for i in range(len(granularity_name))],\n",
    "\t\tvalue=0,\n",
    "\t\tdescription=\"Granularity\",\n",
    "\t)\n",
    "\n",
    "\tw_int_lag = widgets.IntText(\n",
    "\t\tvalue=5,\n",
    "\t\tmin=0,\n",
    "\t\tmax=20,\n",
    "\t\tstep=1,\n",
    "\t\tdescription='Lag'\n",
    "\t)\n",
    "\n",
    "\tw_int_offset = widgets.IntText(\n",
    "\t\tvalue=1,\n",
    "\t\tmin=0,\n",
    "\t\tmax=20,\n",
    "\t\tstep=1,\n",
    "\t\tdescription='Offset'\n",
    "\t)\n",
    "\t\n",
    "\tw_pred_model = widgets.Dropdown(\n",
    "\t\toptions=[\"Linear Regression\", \"Recurrent Neural Network (GRU)\"],\n",
    "\t\tvalue=\"Linear Regression\",\n",
    "\t\tdescription=\"Prediction model\",\n",
    "\t)\n",
    "\n",
    "\tall_w = [w_company, w_input_granularity, w_int_lag, w_int_offset, w_pred_model]\n",
    "\n",
    "\tdef display_prediction_intern(change):\n",
    "\t\tw_output.clear_output()\n",
    "\t\twith w_output:\n",
    "\t\t\tcomp = w_company.options[w_company.value][0]\n",
    "\t\t\tgran = w_input_granularity.options[w_input_granularity.value][0]\n",
    "\t\t\tlag = w_int_lag.value\n",
    "\t\t\toffset = w_int_offset.value\n",
    "   \n",
    "\t\t\tif w_pred_model == \"Linear Regression\":\n",
    "\t\t\t\tpredictCaracteristic(df, comp, offset, gran, lag).show()\n",
    "\t\t\telse :\n",
    "\t\t\t\tpredict_gru(df, comp, offset=offset, gran=gran, max_lag=lag, global_train=False)\n",
    "\t\t\t\n",
    "\n",
    "\tfor w in all_w:\n",
    "\t\tw.observe(display_prediction_intern)\n",
    "\tdisplay(widgets.Box(children=all_w))\n",
    "\tdisplay(w_output)\n",
    "\tdisplay(w_pred_model)\n",
    "\n",
    "\n",
    "display_prediction(df)"
   ]
  },
  {
   "cell_type": "code",
   "execution_count": 90,
   "metadata": {},
   "outputs": [
    {
     "data": {
      "application/vnd.jupyter.widget-view+json": {
       "model_id": "dd2dffcfd2d7460c8e0bd79d1eff13c1",
       "version_major": 2,
       "version_minor": 0
      },
      "text/plain": [
       "Box(children=(Dropdown(description='Company', options=(('AMAZON', 0), ('APPLE', 1), ('FACEBOOK', 2), ('GOOGLE'…"
      ]
     },
     "metadata": {},
     "output_type": "display_data"
    },
    {
     "data": {
      "application/vnd.jupyter.widget-view+json": {
       "model_id": "d83f2d7d9ca44931b6225cd0f8bfb83c",
       "version_major": 2,
       "version_minor": 0
      },
      "text/plain": [
       "Output()"
      ]
     },
     "metadata": {},
     "output_type": "display_data"
    }
   ],
   "source": [
    "def display_gru(df):\n",
    "\tw_output = widgets.Output()\n",
    "\tw_company = widgets.Dropdown(\n",
    "\t\toptions=[(companies[i], i) for i in range(len(companies))],\n",
    "\t\tvalue=0,\n",
    "\t\tdescription=\"Company\",\n",
    "\t)\n",
    "\n",
    "\tgranularity_name = list(granularity.keys())\n",
    "\tgranularity_name.remove(\"year\")\n",
    "\tw_input_granularity = widgets.Dropdown(\n",
    "\t\toptions=[(granularity_name[i], i)\n",
    "\t\t\t\t for i in range(len(granularity_name))],\n",
    "\t\tvalue=0,\n",
    "\t\tdescription=\"Granularity\",\n",
    "\t)\n",
    "\n",
    "\tw_int_lag = widgets.IntText(\n",
    "\t\tvalue=5,\n",
    "\t\tmin=0,\n",
    "\t\tmax=20,\n",
    "\t\tstep=1,\n",
    "\t\tdescription='Lag'\n",
    "\t)\n",
    "\n",
    "\tw_int_offset = widgets.IntText(\n",
    "\t\tvalue=1,\n",
    "\t\tmin=0,\n",
    "\t\tmax=20,\n",
    "\t\tstep=1,\n",
    "\t\tdescription='Offset'\n",
    "\t)\n",
    " \n",
    "\tw_scale = widgets.Checkbox(\n",
    "\t\tvalue=True,\n",
    "\t\tdescription='Normalize',\n",
    "\t\tdisabled=False,\n",
    "\t\tindent=False\n",
    "\t)\n",
    " \n",
    "\tw_close = widgets.Checkbox(\n",
    "\t\tvalue=True,\n",
    "\t\tdescription='Close',\n",
    "\t\tdisabled=False,\n",
    "\t\tindent=False\n",
    "\t)\n",
    "\n",
    "\tw_open = widgets.Checkbox(\n",
    "\t\tvalue=True,\n",
    "\t\tdescription='Open',\n",
    "\t\tdisabled=False,\n",
    "\t\tindent=False\n",
    "\t)\n",
    "  \n",
    "\tw_high = widgets.Checkbox(\n",
    "\t\tvalue=True,\n",
    "\t\tdescription='High',\n",
    "\t\tdisabled=False,\n",
    "\t\tindent=False\n",
    "\t)\n",
    " \n",
    "\tw_low = widgets.Checkbox(\n",
    "\t\tvalue=True,\n",
    "\t\tdescription='Low',\n",
    "\t\tdisabled=False,\n",
    "\t\tindent=False\n",
    "\t)\n",
    "\n",
    "\tall_w = [w_company, w_input_granularity, w_int_lag, w_int_offset, w_scale, w_close, w_open, w_high, w_low]\n",
    "\n",
    "\tdef display_prediction_intern(change):\n",
    "\t\tw_output.clear_output()\n",
    "\t\twith w_output:\n",
    "\t\t\tcomp = w_company.options[w_company.value][0]\n",
    "\t\t\tgran = w_input_granularity.options[w_input_granularity.value][0]\n",
    "\t\t\tlag = w_int_lag.value\n",
    "\t\t\toffset = w_int_offset.value\n",
    "\t\t\tscale = w_scale.value\n",
    "\t\t\tdata_cols = []\n",
    "\t\t\tif (w_close.value):\n",
    "\t\t\t\tdata_cols.append('Close')\n",
    "\t\t\tif (w_open.value):\n",
    "\t\t\t\tdata_cols.append('Open')\n",
    "\t\t\tif (w_high.value):\n",
    "\t\t\t\tdata_cols.append('High')\n",
    "\t\t\tif (w_low.value):\n",
    "\t\t\t\tdata_cols.append('Low')\n",
    "\t\t\tpredict_gru(df, comp, offset=offset, gran=gran, max_lag=lag, data_cols=data_cols, scale=scale, global_train=False)\n",
    "\t\t\t\n",
    "\n",
    "\tfor w in all_w:\n",
    "\t\tw.observe(display_prediction_intern)\n",
    "\tdisplay(widgets.Box(children=all_w))\n",
    "\tdisplay(w_output)\n",
    "\n",
    "\n",
    "display_gru(df)"
   ]
  }
 ],
 "metadata": {
  "kernelspec": {
   "display_name": "Python 3.6.13 64-bit",
   "language": "python",
   "name": "python3"
  },
  "language_info": {
   "codemirror_mode": {
    "name": "ipython",
    "version": 3
   },
   "file_extension": ".py",
   "mimetype": "text/x-python",
   "name": "python",
   "nbconvert_exporter": "python",
   "pygments_lexer": "ipython3",
   "version": "3.6.9"
  },
  "orig_nbformat": 4,
  "vscode": {
   "interpreter": {
    "hash": "30295c5bec572e859485b1ffa5e89b8b3e2022ef6e3e739c1ac40f143a557caf"
   }
  }
 },
 "nbformat": 4,
 "nbformat_minor": 2
}
